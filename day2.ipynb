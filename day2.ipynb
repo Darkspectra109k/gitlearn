{
 "cells": [
  {
   "cell_type": "code",
   "execution_count": 2,
   "id": "b671ba1f",
   "metadata": {},
   "outputs": [
    {
     "name": "stdout",
     "output_type": "stream",
     "text": [
      "apple\n",
      "cocount\n",
      "['apple', 'orange', 'banana']\n"
     ]
    }
   ],
   "source": [
    "fruits =[\"apple\", \"orange\", \"banana\", \"cocount\"]\n",
    "print(fruits[0])  # apple\n",
    "print(fruits[3])  # orange     \n",
    "print(fruits[:3])"
   ]
  },
  {
   "cell_type": "code",
   "execution_count": 5,
   "id": "e791c1ba",
   "metadata": {},
   "outputs": [
    {
     "name": "stdout",
     "output_type": "stream",
     "text": [
      "['__add__', '__class__', '__class_getitem__', '__contains__', '__delattr__', '__delitem__', '__dir__', '__doc__', '__eq__', '__format__', '__ge__', '__getattribute__', '__getitem__', '__getstate__', '__gt__', '__hash__', '__iadd__', '__imul__', '__init__', '__init_subclass__', '__iter__', '__le__', '__len__', '__lt__', '__mul__', '__ne__', '__new__', '__reduce__', '__reduce_ex__', '__repr__', '__reversed__', '__rmul__', '__setattr__', '__setitem__', '__sizeof__', '__str__', '__subclasshook__', 'append', 'clear', 'copy', 'count', 'extend', 'index', 'insert', 'pop', 'remove', 'reverse', 'sort']\n"
     ]
    }
   ],
   "source": [
    "print(dir(fruits))"
   ]
  },
  {
   "cell_type": "code",
   "execution_count": 7,
   "id": "324889d5",
   "metadata": {},
   "outputs": [
    {
     "name": "stdout",
     "output_type": "stream",
     "text": [
      "4\n"
     ]
    }
   ],
   "source": [
    "print(len(fruits)) \n"
   ]
  },
  {
   "cell_type": "code",
   "execution_count": 9,
   "id": "f49b0ac1",
   "metadata": {},
   "outputs": [],
   "source": [
    "fruits[0] = \"kiwi\""
   ]
  },
  {
   "cell_type": "code",
   "execution_count": 11,
   "id": "3efa3adc",
   "metadata": {},
   "outputs": [
    {
     "data": {
      "text/plain": [
       "False"
      ]
     },
     "execution_count": 11,
     "metadata": {},
     "output_type": "execute_result"
    }
   ],
   "source": [
    "\"apple\" in fruits "
   ]
  },
  {
   "cell_type": "code",
   "execution_count": 12,
   "id": "bbd9ebd9",
   "metadata": {},
   "outputs": [],
   "source": [
    "fruits.append(\"grape\")"
   ]
  },
  {
   "cell_type": "code",
   "execution_count": 13,
   "id": "a6a6c2ed",
   "metadata": {},
   "outputs": [
    {
     "name": "stdout",
     "output_type": "stream",
     "text": [
      "['orange', 'banana']\n"
     ]
    }
   ],
   "source": [
    "print(fruits[1:3]) "
   ]
  },
  {
   "cell_type": "code",
   "execution_count": 15,
   "id": "f2f70bb6",
   "metadata": {},
   "outputs": [
    {
     "name": "stdout",
     "output_type": "stream",
     "text": [
      "['kiwi', 'orange', 'banana', 'cocount', 'grape']\n"
     ]
    }
   ],
   "source": [
    "print(fruits[::])"
   ]
  },
  {
   "cell_type": "code",
   "execution_count": 16,
   "id": "1c7daee2",
   "metadata": {},
   "outputs": [],
   "source": [
    "fruits.append(\"grape\")"
   ]
  },
  {
   "cell_type": "code",
   "execution_count": 17,
   "id": "c48fe44d",
   "metadata": {},
   "outputs": [],
   "source": [
    "fruits.remove(\"kiwi\")"
   ]
  },
  {
   "cell_type": "code",
   "execution_count": 18,
   "id": "ca7fe042",
   "metadata": {},
   "outputs": [
    {
     "name": "stdout",
     "output_type": "stream",
     "text": [
      "['orange', 'banana', 'cocount', 'grape', 'grape']\n"
     ]
    }
   ],
   "source": [
    "print(fruits[::])  # Reverse the list"
   ]
  },
  {
   "cell_type": "code",
   "execution_count": 19,
   "id": "67bb16cb",
   "metadata": {},
   "outputs": [],
   "source": [
    "fruits.insert(3,\"pineapple\")"
   ]
  },
  {
   "cell_type": "code",
   "execution_count": 20,
   "id": "760bdfeb",
   "metadata": {},
   "outputs": [
    {
     "name": "stdout",
     "output_type": "stream",
     "text": [
      "['orange', 'banana', 'cocount', 'pineapple', 'grape', 'grape']\n"
     ]
    }
   ],
   "source": [
    "print(fruits[::])"
   ]
  },
  {
   "cell_type": "code",
   "execution_count": 22,
   "id": "c14170eb",
   "metadata": {},
   "outputs": [
    {
     "data": {
      "text/plain": [
       "'cocount'"
      ]
     },
     "execution_count": 22,
     "metadata": {},
     "output_type": "execute_result"
    }
   ],
   "source": [
    "fruits.pop(2) "
   ]
  },
  {
   "cell_type": "code",
   "execution_count": 25,
   "id": "4aaef7ce",
   "metadata": {},
   "outputs": [],
   "source": [
    "fruits.sort()"
   ]
  },
  {
   "cell_type": "code",
   "execution_count": 26,
   "id": "96f0844a",
   "metadata": {},
   "outputs": [
    {
     "name": "stdout",
     "output_type": "stream",
     "text": [
      "['banana', 'grape', 'grape', 'orange', 'pineapple']\n"
     ]
    }
   ],
   "source": [
    "print(fruits[::])# ['orange', 'banana']"
   ]
  },
  {
   "cell_type": "code",
   "execution_count": 28,
   "id": "c1b38361",
   "metadata": {},
   "outputs": [],
   "source": [
    "fruits.reverse()"
   ]
  },
  {
   "cell_type": "code",
   "execution_count": 29,
   "id": "8a0815ca",
   "metadata": {},
   "outputs": [
    {
     "name": "stdout",
     "output_type": "stream",
     "text": [
      "['pineapple', 'orange', 'grape', 'grape', 'banana']\n"
     ]
    }
   ],
   "source": [
    "print(fruits[::])"
   ]
  },
  {
   "cell_type": "code",
   "execution_count": 30,
   "id": "0c197ee5",
   "metadata": {},
   "outputs": [],
   "source": [
    "fruits.clear()"
   ]
  },
  {
   "cell_type": "code",
   "execution_count": 31,
   "id": "9fd52585",
   "metadata": {},
   "outputs": [
    {
     "name": "stdout",
     "output_type": "stream",
     "text": [
      "[]\n"
     ]
    }
   ],
   "source": [
    "print(fruits[::])"
   ]
  },
  {
   "cell_type": "code",
   "execution_count": 33,
   "id": "79d4b90b",
   "metadata": {},
   "outputs": [
    {
     "name": "stdout",
     "output_type": "stream",
     "text": [
      "'banana' is not in the list\n"
     ]
    }
   ],
   "source": [
    "if \"banana\" in fruits:\n",
    "\tprint(fruits.index(\"banana\"))  # Find the index of \"banana\"\n",
    "else:\n",
    "\tprint(\"'banana' is not in the list\")"
   ]
  },
  {
   "cell_type": "code",
   "execution_count": 34,
   "id": "aa337f8a",
   "metadata": {},
   "outputs": [],
   "source": [
    "list1 =[1,2,3,4,[5,6]]"
   ]
  },
  {
   "cell_type": "code",
   "execution_count": 35,
   "id": "54172517",
   "metadata": {},
   "outputs": [
    {
     "name": "stdout",
     "output_type": "stream",
     "text": [
      "True\n"
     ]
    }
   ],
   "source": [
    "print(1 in list1)  # True"
   ]
  },
  {
   "cell_type": "code",
   "execution_count": 38,
   "id": "d6950c03",
   "metadata": {},
   "outputs": [
    {
     "name": "stdout",
     "output_type": "stream",
     "text": [
      "[2, 3, 4, [5, 6]]\n"
     ]
    }
   ],
   "source": [
    "print(list1[1:5])  # [2, 3, 4, [5, 6]]"
   ]
  },
  {
   "cell_type": "code",
   "execution_count": 39,
   "id": "b619d419",
   "metadata": {},
   "outputs": [
    {
     "name": "stdout",
     "output_type": "stream",
     "text": [
      "True\n"
     ]
    }
   ],
   "source": [
    "print(4 in list1)  # True"
   ]
  },
  {
   "cell_type": "code",
   "execution_count": 41,
   "id": "5e8e8aab",
   "metadata": {},
   "outputs": [
    {
     "name": "stdout",
     "output_type": "stream",
     "text": [
      "False\n"
     ]
    }
   ],
   "source": [
    "print(5 in list[4])# False\n"
   ]
  },
  {
   "cell_type": "code",
   "execution_count": 42,
   "id": "aefc0105",
   "metadata": {},
   "outputs": [],
   "source": [
    "list=[1,2,3,[4,5,[6,7,8],9]]"
   ]
  },
  {
   "cell_type": "code",
   "execution_count": 44,
   "id": "c05551a6",
   "metadata": {},
   "outputs": [
    {
     "name": "stdout",
     "output_type": "stream",
     "text": [
      "[4, 5, [6, 7, 8], 9]\n"
     ]
    }
   ],
   "source": [
    "print(list[3])"
   ]
  },
  {
   "cell_type": "code",
   "execution_count": 45,
   "id": "0206db3f",
   "metadata": {},
   "outputs": [
    {
     "name": "stdout",
     "output_type": "stream",
     "text": [
      "[6, 7, 8]\n"
     ]
    }
   ],
   "source": [
    "print(list[3][2])  # [6, 7, 8]"
   ]
  },
  {
   "cell_type": "code",
   "execution_count": 46,
   "id": "a4d3e8e6",
   "metadata": {},
   "outputs": [
    {
     "name": "stdout",
     "output_type": "stream",
     "text": [
      "7\n"
     ]
    }
   ],
   "source": [
    "print(list[3][2][1])# 8"
   ]
  },
  {
   "cell_type": "code",
   "execution_count": 47,
   "id": "0a1b194f",
   "metadata": {},
   "outputs": [],
   "source": [
    "squares = [x**2 for x in range(1,6)]"
   ]
  },
  {
   "cell_type": "code",
   "execution_count": 48,
   "id": "838030d8",
   "metadata": {},
   "outputs": [
    {
     "name": "stdout",
     "output_type": "stream",
     "text": [
      "[1, 4, 9, 16, 25]\n"
     ]
    }
   ],
   "source": [
    "print(squares)"
   ]
  },
  {
   "cell_type": "code",
   "execution_count": 49,
   "id": "9c24cc6c",
   "metadata": {},
   "outputs": [],
   "source": [
    "words = [\"hello\", \"world\", \"python\"]\n",
    "uppercased =[word.upper() for word in words]"
   ]
  },
  {
   "cell_type": "code",
   "execution_count": 50,
   "id": "d20f46aa",
   "metadata": {},
   "outputs": [
    {
     "name": "stdout",
     "output_type": "stream",
     "text": [
      "['HELLO', 'WORLD', 'PYTHON']\n"
     ]
    }
   ],
   "source": [
    "print(uppercased)  # ['HELLO', 'WORLD', 'PYTHON']"
   ]
  },
  {
   "cell_type": "code",
   "execution_count": 57,
   "id": "69cbb04e",
   "metadata": {},
   "outputs": [],
   "source": [
    "fruits = {\"apple\", \"orange\", \"banana\", \"kiwi\",\"kiwi\", \"kiwi\"}"
   ]
  },
  {
   "cell_type": "code",
   "execution_count": 60,
   "id": "c59ee5df",
   "metadata": {},
   "outputs": [
    {
     "name": "stdout",
     "output_type": "stream",
     "text": [
      "{'kiwi', 'apple', 'orange', 'banana'}\n"
     ]
    }
   ],
   "source": [
    "print(fruits)"
   ]
  },
  {
   "cell_type": "code",
   "execution_count": 54,
   "id": "1f68c2b1",
   "metadata": {},
   "outputs": [
    {
     "name": "stdout",
     "output_type": "stream",
     "text": [
      "['__add__', '__class__', '__class_getitem__', '__contains__', '__delattr__', '__delitem__', '__dir__', '__doc__', '__eq__', '__format__', '__ge__', '__getattribute__', '__getitem__', '__getstate__', '__gt__', '__hash__', '__iadd__', '__imul__', '__init__', '__init_subclass__', '__iter__', '__le__', '__len__', '__lt__', '__mul__', '__ne__', '__new__', '__reduce__', '__reduce_ex__', '__repr__', '__reversed__', '__rmul__', '__setattr__', '__setitem__', '__sizeof__', '__str__', '__subclasshook__', 'append', 'clear', 'copy', 'count', 'extend', 'index', 'insert', 'pop', 'remove', 'reverse', 'sort']\n"
     ]
    }
   ],
   "source": [
    "print(dir(fruits))"
   ]
  },
  {
   "cell_type": "code",
   "execution_count": 61,
   "id": "194547c6",
   "metadata": {},
   "outputs": [],
   "source": [
    "fruits.remove(\"kiwi\")"
   ]
  },
  {
   "cell_type": "code",
   "execution_count": 62,
   "id": "e7560be7",
   "metadata": {},
   "outputs": [
    {
     "data": {
      "text/plain": [
       "'apple'"
      ]
     },
     "execution_count": 62,
     "metadata": {},
     "output_type": "execute_result"
    }
   ],
   "source": [
    "fruits.pop()"
   ]
  },
  {
   "cell_type": "code",
   "execution_count": 63,
   "id": "132b5769",
   "metadata": {},
   "outputs": [
    {
     "name": "stdout",
     "output_type": "stream",
     "text": [
      "{'orange', 'banana'}\n"
     ]
    }
   ],
   "source": [
    "print(fruits)"
   ]
  },
  {
   "cell_type": "code",
   "execution_count": 64,
   "id": "80800ebb",
   "metadata": {},
   "outputs": [],
   "source": [
    "superheroes = [\"sperman\",\" batman\", \"ironman\", \"hulk\", \"spiderman\"]"
   ]
  },
  {
   "cell_type": "code",
   "execution_count": 65,
   "id": "1c51426c",
   "metadata": {},
   "outputs": [
    {
     "ename": "ValueError",
     "evalue": "list.remove(x): x not in list",
     "output_type": "error",
     "traceback": [
      "\u001b[31m---------------------------------------------------------------------------\u001b[39m",
      "\u001b[31mValueError\u001b[39m                                Traceback (most recent call last)",
      "\u001b[36mCell\u001b[39m\u001b[36m \u001b[39m\u001b[32mIn[65]\u001b[39m\u001b[32m, line 1\u001b[39m\n\u001b[32m----> \u001b[39m\u001b[32m1\u001b[39m \u001b[43msuperheroes\u001b[49m\u001b[43m.\u001b[49m\u001b[43mremove\u001b[49m\u001b[43m(\u001b[49m\u001b[33;43m\"\u001b[39;49m\u001b[33;43ma\u001b[39;49m\u001b[33;43m\"\u001b[39;49m\u001b[43m)\u001b[49m\n",
      "\u001b[31mValueError\u001b[39m: list.remove(x): x not in list"
     ]
    }
   ],
   "source": [
    "superheroes.remove(\"a\")"
   ]
  },
  {
   "cell_type": "code",
   "execution_count": null,
   "id": "5752bc76",
   "metadata": {},
   "outputs": [
    {
     "ename": "AttributeError",
     "evalue": "'list' object has no attribute 'dicard'",
     "output_type": "error",
     "traceback": [
      "\u001b[31m---------------------------------------------------------------------------\u001b[39m",
      "\u001b[31mAttributeError\u001b[39m                            Traceback (most recent call last)",
      "\u001b[36mCell\u001b[39m\u001b[36m \u001b[39m\u001b[32mIn[67]\u001b[39m\u001b[32m, line 1\u001b[39m\n\u001b[32m----> \u001b[39m\u001b[32m1\u001b[39m \u001b[43msuperheroes\u001b[49m\u001b[43m.\u001b[49m\u001b[43mdicard\u001b[49m(\u001b[33m\"\u001b[39m\u001b[33ma\u001b[39m\u001b[33m\"\u001b[39m) \n",
      "\u001b[31mAttributeError\u001b[39m: 'list' object has no attribute 'dicard'"
     ]
    }
   ],
   "source": [
    "\n",
    "\t# Remove \"batman\" from the superheroes list if it exists\n",
    "\tif \"batman\" in superheroes:\n",
    "\t\tsuperheroes.remove(\"batman\")"
   ]
  },
  {
   "cell_type": "code",
   "execution_count": 68,
   "id": "81a55a85",
   "metadata": {},
   "outputs": [],
   "source": [
    "fruits = (\"apple\", \"mango\", \"mango\")"
   ]
  },
  {
   "cell_type": "code",
   "execution_count": 69,
   "id": "9aee6f5f",
   "metadata": {},
   "outputs": [
    {
     "name": "stdout",
     "output_type": "stream",
     "text": [
      "['__add__', '__class__', '__class_getitem__', '__contains__', '__delattr__', '__dir__', '__doc__', '__eq__', '__format__', '__ge__', '__getattribute__', '__getitem__', '__getnewargs__', '__getstate__', '__gt__', '__hash__', '__init__', '__init_subclass__', '__iter__', '__le__', '__len__', '__lt__', '__mul__', '__ne__', '__new__', '__reduce__', '__reduce_ex__', '__repr__', '__rmul__', '__setattr__', '__sizeof__', '__str__', '__subclasshook__', 'count', 'index']\n"
     ]
    }
   ],
   "source": [
    "print(dir(fruits))"
   ]
  },
  {
   "cell_type": "code",
   "execution_count": 70,
   "id": "11bc02e7",
   "metadata": {},
   "outputs": [
    {
     "data": {
      "text/plain": [
       "3"
      ]
     },
     "execution_count": 70,
     "metadata": {},
     "output_type": "execute_result"
    }
   ],
   "source": [
    "len(fruits)  # Length of the tuple"
   ]
  },
  {
   "cell_type": "code",
   "execution_count": 71,
   "id": "8b66e0e4",
   "metadata": {},
   "outputs": [
    {
     "name": "stdout",
     "output_type": "stream",
     "text": [
      "1\n"
     ]
    }
   ],
   "source": [
    "print(fruits.index(\"mango\"))  # Index of \"mango\" in the tuple"
   ]
  },
  {
   "cell_type": "code",
   "execution_count": 73,
   "id": "75d0be1a",
   "metadata": {},
   "outputs": [],
   "source": [
    "newTuple = (\"kiwi\", \"banana\", \"orange\")"
   ]
  },
  {
   "cell_type": "code",
   "execution_count": 76,
   "id": "ea8a5c4b",
   "metadata": {},
   "outputs": [],
   "source": [
    "y= (\"watermelon\", \"grape\")"
   ]
  },
  {
   "cell_type": "code",
   "execution_count": 77,
   "id": "09a2bc66",
   "metadata": {},
   "outputs": [],
   "source": [
    "newTuple +=y"
   ]
  },
  {
   "cell_type": "code",
   "execution_count": 80,
   "id": "a291c1f0",
   "metadata": {},
   "outputs": [
    {
     "name": "stdout",
     "output_type": "stream",
     "text": [
      "('kiwi', 'banana', 'orange', 'watermelon', 'grape')\n"
     ]
    }
   ],
   "source": [
    "print(newTuple)"
   ]
  },
  {
   "cell_type": "code",
   "execution_count": 88,
   "id": "ed19c69c",
   "metadata": {},
   "outputs": [
    {
     "name": "stdout",
     "output_type": "stream",
     "text": [
      "apple\n",
      "banana\n",
      "cherry\n"
     ]
    }
   ],
   "source": [
    "fruits = [\"apple\", \"banana\", \"cherry\"]\n",
    "(green,yellow,red) =fruits\n",
    "print(green)\n",
    "print(yellow)\n",
    "print(red)\n"
   ]
  },
  {
   "cell_type": "code",
   "execution_count": 93,
   "id": "7497a979",
   "metadata": {},
   "outputs": [
    {
     "name": "stdout",
     "output_type": "stream",
     "text": [
      "apple\n",
      "banana\n",
      "cherry kiwi\n"
     ]
    }
   ],
   "source": [
    "fruits = [\"apple\", \"banana\", \"cherry\", \"kiwi\"]\n",
    "(green, yellow, *red) = fruits\n",
    "\n",
    "print(green)\n",
    "print(yellow)\n",
    "print(*red)"
   ]
  },
  {
   "cell_type": "code",
   "execution_count": 96,
   "id": "26caf6fb",
   "metadata": {},
   "outputs": [],
   "source": [
    "t = (1,2, (3,4), ['a', 'b'])"
   ]
  },
  {
   "cell_type": "code",
   "execution_count": null,
   "id": "f6b3b4a1",
   "metadata": {},
   "outputs": [
    {
     "ename": "TypeError",
     "evalue": "'list' object is not callable",
     "output_type": "error",
     "traceback": [
      "\u001b[31m---------------------------------------------------------------------------\u001b[39m",
      "\u001b[31mTypeError\u001b[39m                                 Traceback (most recent call last)",
      "\u001b[36mCell\u001b[39m\u001b[36m \u001b[39m\u001b[32mIn[98]\u001b[39m\u001b[32m, line 2\u001b[39m\n\u001b[32m      1\u001b[39m fruits = (\u001b[33m\"\u001b[39m\u001b[33maplle\u001b[39m\u001b[33m\"\u001b[39m)\n\u001b[32m----> \u001b[39m\u001b[32m2\u001b[39m \u001b[38;5;28;43mlist\u001b[39;49m\u001b[43m(\u001b[49m\u001b[43mfruits\u001b[49m\u001b[43m)\u001b[49m \n",
      "\u001b[31mTypeError\u001b[39m: 'list' object is not callable"
     ]
    }
   ],
   "source": [
    "fruits = (\"aplle\")\n",
    "list1fruits) "
   ]
  },
  {
   "cell_type": "code",
   "execution_count": 99,
   "id": "f2a79be1",
   "metadata": {},
   "outputs": [
    {
     "ename": "SyntaxError",
     "evalue": "unterminated string literal (detected at line 3) (1209844642.py, line 3)",
     "output_type": "error",
     "traceback": [
      "  \u001b[36mCell\u001b[39m\u001b[36m \u001b[39m\u001b[32mIn[99]\u001b[39m\u001b[32m, line 3\u001b[39m\n\u001b[31m    \u001b[39m\u001b[31mset = (1,'hello, 3.14,True)\u001b[39m\n             ^\n\u001b[31mSyntaxError\u001b[39m\u001b[31m:\u001b[39m unterminated string literal (detected at line 3)\n"
     ]
    }
   ],
   "source": [
    "list = [1, 'hello' , 3.14, True]\n",
    "tuple = (1, 'hello', 3.14, True)\n",
    "set = (1,'hello, 3.14,True)\n",
    "       \n",
    "       "
   ]
  },
  {
   "cell_type": "code",
   "execution_count": 101,
   "id": "9893c6d7",
   "metadata": {},
   "outputs": [
    {
     "name": "stdout",
     "output_type": "stream",
     "text": [
      "Yes, 'banana' is in the list\n"
     ]
    }
   ],
   "source": [
    "fruits = [\"apple\", \"banana\", \"orange\", \"kiwi\"]\n",
    "if \"banana\" in fruits:\n",
    "    print(\"Yes, 'banana' is in the list\")   \n",
    "else:\n",
    "    print(\"No, 'banana' is not in the list\")        "
   ]
  },
  {
   "cell_type": "code",
   "execution_count": null,
   "id": "33476a33",
   "metadata": {},
   "outputs": [
    {
     "name": "stdout",
     "output_type": "stream",
     "text": [
      "apple\n",
      "banana\n",
      "orange\n",
      "kiwi\n",
      "['apple', 'banana', 'orange', 'kiwi', 'apple', 'banana', 'orange', 'kiwi']\n"
     ]
    }
   ],
   "source": [
    "i =0;\n",
    "while i < len(fruits):\n",
    "    print(fruits[i])\n",
    "    i += 1\n",
    "    print(fruits*2)\n"
   ]
  },
  {
   "cell_type": "code",
   "execution_count": 106,
   "id": "dab1a220",
   "metadata": {},
   "outputs": [
    {
     "name": "stdout",
     "output_type": "stream",
     "text": [
      "['apple', 'banana', 'orange', 'kiwi', 'apple', 'banana', 'orange', 'kiwi']\n"
     ]
    }
   ],
   "source": [
    "print(fruits*2)"
   ]
  },
  {
   "cell_type": "code",
   "execution_count": 110,
   "id": "769042f4",
   "metadata": {},
   "outputs": [
    {
     "name": "stdout",
     "output_type": "stream",
     "text": [
      "20\n",
      "subhash\n"
     ]
    }
   ],
   "source": [
    "student = {\n",
    "    1: 'first',\n",
    "    \"name\": \"subhash\",\n",
    "    \"age\" : 20,\n",
    "    \"Courses\" : [\"Math\",\"Sciences\"]\n",
    "\n",
    "}\n",
    "print(student[\"age\"])\n",
    "print(student.get(\"name\"))  "
   ]
  },
  {
   "cell_type": "code",
   "execution_count": null,
   "id": "06a8380b",
   "metadata": {},
   "outputs": [
    {
     "ename": "SyntaxError",
     "evalue": "invalid syntax. Perhaps you forgot a comma? (3778004594.py, line 1)",
     "output_type": "error",
     "traceback": [
      "  \u001b[36mCell\u001b[39m\u001b[36m \u001b[39m\u001b[32mIn[111]\u001b[39m\u001b[32m, line 1\u001b[39m\n\u001b[31m    \u001b[39m\u001b[31mprint(student age(\"age\"))\u001b[39m\n          ^\n\u001b[31mSyntaxError\u001b[39m\u001b[31m:\u001b[39m invalid syntax. Perhaps you forgot a comma?\n"
     ]
    }
   ],
   "source": [
    "print(student.get(\"age\"))\n"
   ]
  },
  {
   "cell_type": "code",
   "execution_count": 117,
   "id": "68b04e3c",
   "metadata": {},
   "outputs": [
    {
     "name": "stdout",
     "output_type": "stream",
     "text": [
      "['__class__', '__class_getitem__', '__contains__', '__delattr__', '__delitem__', '__dir__', '__doc__', '__eq__', '__format__', '__ge__', '__getattribute__', '__getitem__', '__getstate__', '__gt__', '__hash__', '__init__', '__init_subclass__', '__ior__', '__iter__', '__le__', '__len__', '__lt__', '__ne__', '__new__', '__or__', '__reduce__', '__reduce_ex__', '__repr__', '__reversed__', '__ror__', '__setattr__', '__setitem__', '__sizeof__', '__str__', '__subclasshook__', 'clear', 'copy', 'fromkeys', 'get', 'items', 'keys', 'pop', 'popitem', 'setdefault', 'update', 'values']\n",
      "dict_keys(['name', 'age', 'city'])\n",
      "Help on built-in function keys:\n",
      "\n",
      "keys() method of builtins.dict instance\n",
      "    Return a set-like object providing a view on the dict's keys.\n",
      "\n",
      "None\n",
      "dict_values(['subhash', 20, 'lndon'])\n"
     ]
    }
   ],
   "source": [
    "print(dir(student))\n",
    "print(student.keys())\n",
    "print(help(student.keys))\n",
    "print(student.values())     \n",
    "student = dict(name=\"subhash\", age=20, city=\"lndon\")"
   ]
  },
  {
   "cell_type": "code",
   "execution_count": 116,
   "id": "579a4f27",
   "metadata": {},
   "outputs": [
    {
     "name": "stdout",
     "output_type": "stream",
     "text": [
      "subhash\n"
     ]
    }
   ],
   "source": [
    "students = [\"subhash\", \"job\", \"suresh\"]\n",
    "print(students[0])  # subhash"
   ]
  },
  {
   "cell_type": "code",
   "execution_count": 118,
   "id": "274996ef",
   "metadata": {},
   "outputs": [],
   "source": [
    "del student[\"age\"]  # Remove the key \"age\""
   ]
  },
  {
   "cell_type": "code",
   "execution_count": null,
   "id": "f67269e8",
   "metadata": {},
   "outputs": [
    {
     "ename": "SyntaxError",
     "evalue": "unterminated string literal (detected at line 1) (1260191563.py, line 1)",
     "output_type": "error",
     "traceback": [
      "  \u001b[36mCell\u001b[39m\u001b[36m \u001b[39m\u001b[32mIn[121]\u001b[39m\u001b[32m, line 1\u001b[39m\n\u001b[31m    \u001b[39m\u001b[31mif \"subt.values():\u001b[39m\n       ^\n\u001b[31mSyntaxError\u001b[39m\u001b[31m:\u001b[39m unterminated string literal (detected at line 1)\n"
     ]
    }
   ],
   "source": [
    "if \"subhash.values():\n",
    "    print(\"subhash is in the student values\")\n",
    "else:\n",
    "    print(\"subhash is not in the student values\")   "
   ]
  },
  {
   "cell_type": "markdown",
   "id": "cb062fbc",
   "metadata": {},
   "source": [
    "for key in student:\n",
    "    print(key)\n",
    "for value in student.values():\n",
    "    Print(value)\n",
    "for key, value in student, item():\n",
    "    print(key, value)"
   ]
  },
  {
   "cell_type": "code",
   "execution_count": 122,
   "id": "f79c191e",
   "metadata": {},
   "outputs": [
    {
     "name": "stdout",
     "output_type": "stream",
     "text": [
      "subhash\n",
      "22\n"
     ]
    }
   ],
   "source": [
    "students = {\n",
    "    \"student1\": {\"name\": \"subhash\", \"age\": 20},\n",
    "    \"student2\": {\"name\": \"job\", \"age\": 22},\n",
    "}\n",
    "print(students[\"student1\"][\"name\"])  # subhash\n",
    "print(students[\"student2\"][\"age\"])   # 22"
   ]
  },
  {
   "cell_type": "code",
   "execution_count": 123,
   "id": "2816a3c6",
   "metadata": {},
   "outputs": [
    {
     "name": "stdout",
     "output_type": "stream",
     "text": [
      "{0: 0, 1: 1, 2: 4, 3: 9, 4: 16}\n"
     ]
    }
   ],
   "source": [
    "squares = {x: x*x for x in range(5)};\n",
    "print(squares)  # {0: 0, 1: 1, 2: 4, 3: 9, 4: 16}"
   ]
  },
  {
   "cell_type": "code",
   "execution_count": null,
   "id": "1f048bfa",
   "metadata": {},
   "outputs": [],
   "source": []
  }
 ],
 "metadata": {
  "kernelspec": {
   "display_name": "Python 3",
   "language": "python",
   "name": "python3"
  },
  "language_info": {
   "codemirror_mode": {
    "name": "ipython",
    "version": 3
   },
   "file_extension": ".py",
   "mimetype": "text/x-python",
   "name": "python",
   "nbconvert_exporter": "python",
   "pygments_lexer": "ipython3",
   "version": "3.13.3"
  }
 },
 "nbformat": 4,
 "nbformat_minor": 5
}
