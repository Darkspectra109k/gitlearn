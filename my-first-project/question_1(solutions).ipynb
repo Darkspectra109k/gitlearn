{
 "cells": [
  {
   "cell_type": "markdown",
   "id": "aad1397f",
   "metadata": {},
   "source": [
    "## Section A: Theoretical Questions"
   ]
  },
  {
   "cell_type": "markdown",
   "id": "f5b681db",
   "metadata": {},
   "source": [
    "### What is the difference between a list, tuple, and set in Python? Give one use-case for each."
   ]
  },
  {
   "cell_type": "code",
   "execution_count": null,
   "id": "7dc6c895",
   "metadata": {
    "vscode": {
     "languageId": "plaintext"
    }
   },
   "outputs": [],
   "source": [
    "List:\n",
    "-> A list is an ordered collection of items that can b   e changed (mutable) \n",
    "   and can contain duplicates.\n",
    "\n",
    "Use-case:\n",
    "-> Think be a shop-honor Keeping a shopping list where you might add or remove items, \n",
    "   and some items can appear more than once."
   ]
  },
  {
   "cell_type": "code",
   "execution_count": null,
   "id": "54ae0ca3",
   "metadata": {
    "vscode": {
     "languageId": "plaintext"
    }
   },
   "outputs": [],
   "source": [
    "Tuple:\n",
    "-> A tuple is an ordered collection like a list, but it cannot be \n",
    "   changed after creation (immutable). It can also contain duplicates.\n",
    "   \n",
    "Use-case:\n",
    "-> Storing the days of the week or GPS coordinates that don’t change"
   ]
  },
  {
   "cell_type": "code",
   "execution_count": null,
   "id": "26121ec9",
   "metadata": {
    "vscode": {
     "languageId": "plaintext"
    }
   },
   "outputs": [],
   "source": [
    "Set:\n",
    "-> A set is an unordered collection of unique items (no duplicates allowed). \n",
    "   It is   mutable, so you can add or remove elements\n",
    "Use-case:\n",
    "-> Finding all unique colors in a painting or unique words in a book."
   ]
  },
  {
   "cell_type": "markdown",
   "id": "70de8dba",
   "metadata": {},
   "source": [
    "### Explain how type casting is useful in handling user input."
   ]
  },
  {
   "cell_type": "code",
   "execution_count": null,
   "id": "44d8694a",
   "metadata": {
    "vscode": {
     "languageId": "plaintext"
    }
   },
   "outputs": [],
   "source": [
    "Type casting is useful in handling user input because inputs from users \n",
    "are always received as strings by default. To perform meaningful operations \n",
    "like arithmetic or comparisons, you need to convert these string inputs into \n",
    "the appropriate data types such as integers or floats. This process is called \n",
    "type casting.\n",
    "\n",
    "Example: \n",
    " When we take input from the user, it's always in string format, even if they\n",
    " enter a number. So, if we want to perform integer calculations, we need to \n",
    " convert that input from string to integer using type casting.\n",
    "\n",
    "\n",
    "\n",
    "\n"
   ]
  },
  {
   "cell_type": "markdown",
   "id": "39892689",
   "metadata": {},
   "source": [
    "### What is string slicing? Give an example."
   ]
  },
  {
   "cell_type": "code",
   "execution_count": null,
   "id": "dc813513",
   "metadata": {
    "vscode": {
     "languageId": "plaintext"
    }
   },
   "outputs": [],
   "source": [
    "String Slicing:\n",
    "=> String slicing is a way to get a part of a string by using index numbers.\n",
    "   String slicing helps you take a small part from a bigger string\n",
    "\n",
    "Example:\n",
    "text = \"StudyCloudHub\"\n",
    "part = text[0:5]\n",
    "print(part)\n",
    "\n",
    "Output:\n",
    "Study\n"
   ]
  },
  {
   "cell_type": "markdown",
   "id": "aca69127",
   "metadata": {},
   "source": [
    "### Compare 1D vs 2D arrays in the context of NumPy. Why is it important in data science?"
   ]
  },
  {
   "cell_type": "code",
   "execution_count": null,
   "id": "5ffd15ac",
   "metadata": {
    "vscode": {
     "languageId": "plaintext"
    }
   },
   "outputs": [],
   "source": [
    "1D arrays:\n",
    "-> 1D array is a simple list of elements in a row.\n",
    "-> It has only one dimension & it is used for linear data.\n",
    "\n",
    "Example:\n",
    "   arr =  [10, 20, 30]\n",
    "\n",
    "\n",
    "2D arrays:\n",
    "-> 2D array is like a table or matrix with rows & <i class=\"fa fa-columns\n",
    "-> It has 2 dimensions & it is used to represent strutcured data like datbase\n",
    "\n",
    "Example:\n",
    "    arr\t[[10, 20], [30, 40]]\n",
    "\n",
    "\n",
    "\n",
    "Importants:\n",
    "   In data science we work with numbers, tables, and large datasets.\n",
    "   To handle this data easily and efficiently, we use arrays, especially NumPy\n",
    "   arrays. A 1D array is like a simple list with just one row of values, while\n",
    "   a 2D array is like a table with rows and columns. These arrays help us organize\n",
    "   data clearly and perform fast calculations without writing complicated loops.\n",
    "\n",
    "\n",
    "\n"
   ]
  },
  {
   "cell_type": "markdown",
   "id": "2478f96e",
   "metadata": {},
   "source": [
    "### Why is indentation important in Python? What happens if you ignore it?"
   ]
  },
  {
   "cell_type": "code",
   "execution_count": null,
   "id": "ef53a8e0",
   "metadata": {
    "vscode": {
     "languageId": "plaintext"
    }
   },
   "outputs": [],
   "source": [
    "Indentation is important in Python because it uses spaces at the\n",
    " beginning of a line to show which lines of code belong together \n",
    " like inside a loop, function, or if-statement.\n",
    "\n",
    " If we  ignore or use incorrect indentation in Python, Our code\n",
    " will not run and will show an IndentationError Because pythons \n",
    " relies on indentation which code blongsinside the conditions, loop, functions.\n",
    " so it is confused and throw error.\n",
    "\n",
    " Example:\n",
    " if 5 > 2:\n",
    "print(\"Yes\")   \n",
    "\n",
    "Output: \n",
    "\n",
    " Cell In[5],   line 2\n",
    "    print(\"Yes\")   # ❌ Wrong indentation\n",
    "    ^\n",
    "IndentationError: expected an indented block after 'if' statement on line 1\n",
    "\n"
   ]
  },
  {
   "cell_type": "markdown",
   "id": "e004485e",
   "metadata": {},
   "source": [
    "## Section B: Coding Exercises"
   ]
  },
  {
   "cell_type": "markdown",
   "id": "f7639ab3",
   "metadata": {},
   "source": [
    "\n",
    "### User Input & Type Casting\n",
    "### Take the age and height (in cm) of a user as input and print a message like:\n",
    "### \"You are 23 years old and 170.5 cm tall.\"\n"
   ]
  },
  {
   "cell_type": "code",
   "execution_count": null,
   "id": "b0c45ff1",
   "metadata": {
    "vscode": {
     "languageId": "plaintext"
    }
   },
   "outputs": [],
   "source": [
    "Age = int(input(\"Enter your age:\"))\n",
    "height = float(input(\"Enter your height in cm:\"))\n",
    "\n",
    "print(f\"you age {age}years old & {height} cm tall.\")"
   ]
  },
  {
   "cell_type": "markdown",
   "id": "06c638d3",
   "metadata": {},
   "source": [
    "\n",
    "### Given a string s = \"DataScience\", print:\n",
    "\n",
    "### (a) First 4 characters\n",
    "\n",
    "### (b) Last 3 characters\n",
    "\n",
    "### (c) Every second character"
   ]
  },
  {
   "cell_type": "code",
   "execution_count": null,
   "id": "307af9f3",
   "metadata": {
    "vscode": {
     "languageId": "plaintext"
    }
   },
   "outputs": [],
   "source": [
    "s = \"DataScience\"\n",
    "print(s[:4])\n",
    "print(s[-3:])\n",
    "print(s[::2])"
   ]
  },
  {
   "cell_type": "markdown",
   "id": "22feac4e",
   "metadata": {},
   "source": [
    "\n",
    "### Create a list of numbers from 1 to 10. Convert it to a tuple and print the square of each number using a loop."
   ]
  },
  {
   "cell_type": "code",
   "execution_count": null,
   "id": "59266c44",
   "metadata": {
    "vscode": {
     "languageId": "plaintext"
    }
   },
   "outputs": [],
   "source": [
    "list = list(range(1,11))\n",
    "tuple = tuple(list)\n",
    "\n",
    "for num in tuple:\n",
    "    print(num**2)"
   ]
  },
  {
   "cell_type": "markdown",
   "id": "fcdd16fb",
   "metadata": {},
   "source": [
    "### Given two sets:\n",
    "### A = {1, 2, 3, 4, 5}, B = {4, 5, 6, 7},\n",
    "\n",
    "### Print the union and intersection of the sets.\n",
    "\n",
    "### Remove 3 from set A."
   ]
  },
  {
   "cell_type": "markdown",
   "id": "b66ad655",
   "metadata": {},
   "source": [
    "\n",
    "A = {1, 2, 3, 4, 5}\n",
    "B = {4, 5, 6, 7}\n",
    "\n",
    "union_set = A.union(B)\n",
    "print(\"Union:\", union_set)\n",
    "\n",
    "intersection_set = A.intersection(B)\n",
    "print(\"Intersection:\", intersection_set)\n",
    "\n",
    "A.remove(3)\n",
    "print(\"Set A after removing 3:\", A)\n"
   ]
  },
  {
   "cell_type": "markdown",
   "id": "34a5ed22",
   "metadata": {},
   "source": [
    "\n",
    "### (a) Create a NumPy array from a user input list.\n",
    "### (b) Create a 2D NumPy array of shape (3, 3) and fill it with numbers 1 to 9.\n",
    "### (c) Print the first row, last column, and the transpose of the array."
   ]
  },
  {
   "cell_type": "code",
   "execution_count": null,
   "id": "dab5ee6e",
   "metadata": {
    "vscode": {
     "languageId": "plaintext"
    }
   },
   "outputs": [],
   "source": [
    "import numpy as np\n",
    "\n",
    "# Take comma-separated input from user and convert to list of integers\n",
    "user_input = input(\"Enter numbers separated by commas: \")\n",
    "user_list = [int(x) for x in user_input.split(\",\")]\n",
    "\n",
    "\n",
    "arr = np.array(user_list)\n",
    "print(\"NumPy array from user input:\", arr)\n",
    "\n",
    "\n",
    "arr_2d = np.arange(1, 10).reshape(3, 3)\n",
    "print(\"2D NumPy array (3x3):\\n\", arr_2d)\n",
    "\n",
    "\n",
    "print(\"First row:\", arr_2d[0, :])\n",
    "print(\"Last column:\", arr_2d[:, -1])\n",
    "print(\"Transpose of the array:\\n\", arr_2d.T)\n"
   ]
  },
  {
   "cell_type": "markdown",
   "id": "ff2996e7",
   "metadata": {},
   "source": [
    "## Section C: BrainStorming"
   ]
  },
  {
   "cell_type": "markdown",
   "id": "7d897c88",
   "metadata": {},
   "source": [
    "### Why are NumPy arrays preferred over lists in data science? Mention two reasons with examples."
   ]
  },
  {
   "cell_type": "code",
   "execution_count": null,
   "id": "7297f49f",
   "metadata": {
    "vscode": {
     "languageId": "plaintext"
    }
   },
   "outputs": [],
   "source": [
    "1. Faster and more memory-efficient:\n",
    "\n",
    "NumPy arrays use less memory and perform operations much faster  than lists because \n",
    "store data in a continuous block and implemented in C.\n",
    "adds numbers in arrays quicky withouts loops\n",
    "\n",
    "Example: np.array([1,2,3]) + np.array([4,5,6]) \n",
    "\n",
    "\n",
    "2. Supports multi-dimensional data and math operations:\n",
    "\n",
    "NumPy easily handles matrices and offers optimized functions like dot product.\n",
    "computes matrix multiplication efficiently.\n",
    "\n",
    "Example: np.dot(A, B) computes matrix multiplication efficiently.\n",
    "\n",
    "\n",
    "\n",
    "\n",
    "\n",
    "\n"
   ]
  },
  {
   "cell_type": "markdown",
   "id": "4241256e",
   "metadata": {},
   "source": [
    "### Suppose you want to store multiple temperature readings over several days, where each day has different numbers of readings. Which Python data structure would you choose and why?"
   ]
  },
  {
   "cell_type": "code",
   "execution_count": null,
   "id": "0ee14592",
   "metadata": {
    "vscode": {
     "languageId": "plaintext"
    }
   },
   "outputs": [],
   "source": [
    "When I want to store multiple temperature readings over several days,\n",
    "and each day has a different number of readings, I use a list.\n",
    "This is because lists are flexible.Each inner list can hold temperature\n",
    "readings for one day. Lists allow different lengths, so varying daily\n",
    "readings are handled easily. It is easy to access and update the readings.\n",
    "We can add or remove readings easily without any restrictions.\n",
    "\n"
   ]
  },
  {
   "cell_type": "markdown",
   "id": "f52d1737",
   "metadata": {},
   "source": [
    "### Create a function analyze_array(arr) that:\n",
    "\n",
    "### Takes a NumPy array as input\n",
    "\n",
    "### Prints the shape, mean, and standard deviation of the array."
   ]
  },
  {
   "cell_type": "code",
   "execution_count": null,
   "id": "6999c646",
   "metadata": {
    "vscode": {
     "languageId": "plaintext"
    }
   },
   "outputs": [],
   "source": [
    "import numpy as np\n",
    "\n",
    "def analyze_array(arr):\n",
    "    print(\"Shape:\", arr.shape)\n",
    "    print(\"Mean:\", np.mean(arr))\n",
    "    print(\"Standard Deviation:\", np.std(arr))\n",
    "\n",
    "\n",
    "array = np.array([[1, 2, 3], [4, 5, 6]])\n",
    "\n",
    "# Call the function\n",
    "analyze_array(array)\n"
   ]
  },
  {
   "cell_type": "markdown",
   "id": "b517b373",
   "metadata": {},
   "source": [
    "### Given a list of 10 integers, write a loop to check which numbers are divisible by both 2 and 3. Store them in a set."
   ]
  },
  {
   "cell_type": "code",
   "execution_count": null,
   "id": "ad0218c1",
   "metadata": {
    "vscode": {
     "languageId": "plaintext"
    }
   },
   "outputs": [],
   "source": [
    "numbers = [12, 7, 18, 24, 35, 36, 40, 42, 50, 60]\n",
    "\n",
    "divisible_set = set()\n",
    "\n",
    "for num in numbers:\n",
    "    if num % 2 == 0 and num % 3 == 0:\n",
    "        divisible_set.add(num)\n",
    "\n",
    "print(\"Numbers divisible by both 2 and 3:\", divisible_set)\n"
   ]
  }
 ],
 "metadata": {
  "language_info": {
   "name": "python"
  }
 },
 "nbformat": 4,
 "nbformat_minor": 5
}
