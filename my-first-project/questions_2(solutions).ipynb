{
 "cells": [
  {
   "cell_type": "markdown",
   "id": "f8ab9a37",
   "metadata": {},
   "source": [
    "### Q1: (Printing and Input)\n",
    "Print your name and age using two print statements."
   ]
  },
  {
   "cell_type": "code",
   "execution_count": 3,
   "id": "0279d2d0",
   "metadata": {},
   "outputs": [
    {
     "name": "stdout",
     "output_type": "stream",
     "text": [
      "Name: Subhash Kumar Thakur \n",
      "Age: 23\n"
     ]
    }
   ],
   "source": [
    "name =  \"Subhash Kumar Thakur \"\n",
    "age =  23\n",
    "\n",
    "print(\"Name:\", name)\n",
    "print(\"Age:\", age)"
   ]
  },
  {
   "cell_type": "markdown",
   "id": "c16c9896",
   "metadata": {},
   "source": [
    "### Q2: (Printing and Input)\n",
    "Print the result of 10 + 20."
   ]
  },
  {
   "cell_type": "code",
   "execution_count": null,
   "id": "e5122580",
   "metadata": {},
   "outputs": [
    {
     "name": "stdout",
     "output_type": "stream",
     "text": [
      "The Sum is 10+20: 30\n",
      "The Sum is 30\n"
     ]
    }
   ],
   "source": [
    "print(\"The Sum is 10+20:\", 10+20)\n",
    "\n",
    "\n",
    "# if take input from user.\n",
    "# Num1 = int(input(\"Enter First number: \"))\n",
    "# Num2 = int(input(\"Enter Second number: \"))\n",
    "# print(\"The Sum is\", Num1 + Num2)"
   ]
  },
  {
   "cell_type": "markdown",
   "id": "6573caaf",
   "metadata": {},
   "source": [
    "### Q3: (Printing and Input)\n",
    "Use `input()` to take a user's name and greet them."
   ]
  },
  {
   "cell_type": "code",
   "execution_count": null,
   "id": "39fff17b",
   "metadata": {},
   "outputs": [
    {
     "name": "stdout",
     "output_type": "stream",
     "text": [
      "Hello , Subhash\n",
      "Nice to meet you! Subhash\n"
     ]
    }
   ],
   "source": [
    "name = input(\"Enter your name: \")\n",
    "print(\"Hello ,\", name)\n",
    "# print(\"Nice to meet you!\", name)"
   ]
  },
  {
   "cell_type": "markdown",
   "id": "3855d528",
   "metadata": {},
   "source": [
    "### Q4: (Printing and Input)\n",
    "Input two numbers and print their sum."
   ]
  },
  {
   "cell_type": "code",
   "execution_count": null,
   "id": "aaf6a782",
   "metadata": {},
   "outputs": [
    {
     "name": "stdout",
     "output_type": "stream",
     "text": [
      "The Sum Is: 90.50059999999999\n"
     ]
    }
   ],
   "source": [
    "Num1 = float(input(\"Enter the Frist number: \"))\n",
    "Num2 = float(input(\"Enter the Second number: \"))\n",
    "Sum = Num1 + Num2\n",
    "print(\"The Sum Is:\", Sum)"
   ]
  },
  {
   "cell_type": "markdown",
   "id": "1da9ba3a",
   "metadata": {},
   "source": [
    "### Q5: (Printing and Input)\n",
    "Ask for a favorite color and print it twice using multiplication."
   ]
  },
  {
   "cell_type": "code",
   "execution_count": null,
   "id": "406f7bbe",
   "metadata": {},
   "outputs": [
    {
     "name": "stdout",
     "output_type": "stream",
     "text": [
      "BlackBlack\n"
     ]
    }
   ],
   "source": [
    "Color = input(\"Enter your favorite color:\")\n",
    "print(Color * 2)"
   ]
  },
  {
   "cell_type": "markdown",
   "id": "5a25c994",
   "metadata": {},
   "source": [
    "### Q6: (Printing and Input)\n",
    "Ask the user to input a sentence and print its length."
   ]
  },
  {
   "cell_type": "code",
   "execution_count": 19,
   "id": "d98df8d8",
   "metadata": {},
   "outputs": [
    {
     "name": "stdout",
     "output_type": "stream",
     "text": [
      "I love you ji............\n",
      "The length of the sentence is: 25\n"
     ]
    }
   ],
   "source": [
    "Sen = input(\"Enter the sentenece:\")\n",
    "print(Sen)              # sen = sentence\n",
    "print(\"The length of the sentence is:\", len(Sen))"
   ]
  },
  {
   "cell_type": "markdown",
   "id": "813f4fc9",
   "metadata": {},
   "source": [
    "### Q7: (Variable and Data Types)\n",
    "Create a variable for each type: int, float, string, bool. Print them."
   ]
  },
  {
   "cell_type": "code",
   "execution_count": 20,
   "id": "3ebf3587",
   "metadata": {},
   "outputs": [
    {
     "name": "stdout",
     "output_type": "stream",
     "text": [
      "Integer: 10\n",
      "Float: 9999.8\n",
      "String: Hello ji\n",
      "Boolean: True\n"
     ]
    }
   ],
   "source": [
    "int=10\n",
    "float=9999.8\n",
    "string=\"Hello ji\"\n",
    "bool=True\n",
    "\n",
    "print(\"Integer:\", int)\n",
    "print(\"Float:\", float)\n",
    "print(\"String:\", string)   \n",
    "print(\"Boolean:\", bool)"
   ]
  },
  {
   "cell_type": "markdown",
   "id": "f3b03a15",
   "metadata": {},
   "source": [
    "### Q8: (Variable and Data Types)\n",
    "Assign the value 10 to x and then add 5 to it. Print the result."
   ]
  },
  {
   "cell_type": "code",
   "execution_count": 21,
   "id": "5c61e9ab",
   "metadata": {},
   "outputs": [
    {
     "name": "stdout",
     "output_type": "stream",
     "text": [
      "15\n"
     ]
    }
   ],
   "source": [
    "x=10\n",
    "x=x+5\n",
    "print(x)"
   ]
  },
  {
   "cell_type": "markdown",
   "id": "13a3cb28",
   "metadata": {},
   "source": [
    "### Q9: (Variable and Data Types)\n",
    "Check the type of variable `val = 3.14`."
   ]
  },
  {
   "cell_type": "code",
   "execution_count": 26,
   "id": "48968742",
   "metadata": {},
   "outputs": [
    {
     "name": "stdout",
     "output_type": "stream",
     "text": [
      "<class 'float'>\n"
     ]
    }
   ],
   "source": [
    "val = 3.14\n",
    "print(type(val))"
   ]
  },
  {
   "cell_type": "markdown",
   "id": "c980d4f3",
   "metadata": {},
   "source": [
    "### Q10: (Variable and Data Types)\n",
    "Use multiple assignment to assign 3 values to a, b, c."
   ]
  },
  {
   "cell_type": "code",
   "execution_count": 27,
   "id": "d6b5a2a4",
   "metadata": {},
   "outputs": [
    {
     "name": "stdout",
     "output_type": "stream",
     "text": [
      "4\n",
      "9\n",
      "19\n"
     ]
    }
   ],
   "source": [
    "a,b,c = 4,9,19\n",
    "print(a)\n",
    "print(b)\n",
    "print(c)"
   ]
  },
  {
   "cell_type": "markdown",
   "id": "170338e4",
   "metadata": {},
   "source": [
    "### Q11: (Complex Numbers)\n",
    "Create complex numbers x = 2+3j and y = 4-2j. Print their sum."
   ]
  },
  {
   "cell_type": "code",
   "execution_count": 28,
   "id": "3d6a8e68",
   "metadata": {},
   "outputs": [
    {
     "name": "stdout",
     "output_type": "stream",
     "text": [
      "(6+1j)\n"
     ]
    }
   ],
   "source": [
    "x=2+3j\n",
    "y=4-2j\n",
    "print(x+y)"
   ]
  },
  {
   "cell_type": "code",
   "execution_count": null,
   "id": "52748b36",
   "metadata": {
    "vscode": {
     "languageId": "bat"
    }
   },
   "outputs": [],
   "source": [
    "### Q12: (Complex Numbers)\n",
    "Print the real and imaginary parts of 5 + 7j."
   ]
  },
  {
   "cell_type": "code",
   "execution_count": 29,
   "id": "a4bd1412",
   "metadata": {},
   "outputs": [
    {
     "name": "stdout",
     "output_type": "stream",
     "text": [
      "Real part: 5.0\n",
      "Imaginary part: 7.0\n"
     ]
    }
   ],
   "source": [
    "S = 5+7j\n",
    "print(\"Real part:\", S.real)\n",
    "print(\"Imaginary part:\", S.imag)"
   ]
  },
  {
   "cell_type": "markdown",
   "id": "0f0fa2bd",
   "metadata": {},
   "source": [
    "### Q13: (Complex Numbers)\n",
    "Multiply two complex numbers: (1+2j)*(3+4j) and print the result."
   ]
  },
  {
   "cell_type": "code",
   "execution_count": 30,
   "id": "b7d61e9d",
   "metadata": {},
   "outputs": [
    {
     "name": "stdout",
     "output_type": "stream",
     "text": [
      "(-5+10j)\n"
     ]
    }
   ],
   "source": [
    "x=1+2j\n",
    "y=3+4j\n",
    "print(x*y)"
   ]
  },
  {
   "cell_type": "markdown",
   "id": "06d7073c",
   "metadata": {},
   "source": [
    "### Q14: (If-Else and Comparisons)\n",
    "Check if the number 12 is greater than 10 and print a message."
   ]
  },
  {
   "cell_type": "code",
   "execution_count": null,
   "id": "18d1e7b4",
   "metadata": {},
   "outputs": [
    {
     "name": "stdout",
     "output_type": "stream",
     "text": [
      "12 is greater than 10\n"
     ]
    }
   ],
   "source": [
    "\n",
    "if 12 > 10:\n",
    "    print(\"12 is greater than 10\")  \n",
    "else:\n",
    "    print(\"10 is greater than 12\")  \n"
   ]
  },
  {
   "cell_type": "markdown",
   "id": "9b300253",
   "metadata": {},
   "source": [
    "### Q15: (If-Else and Comparisons)\n",
    "Ask for an age and print whether the person is an adult or not."
   ]
  },
  {
   "cell_type": "code",
   "execution_count": 43,
   "id": "299136ae",
   "metadata": {},
   "outputs": [
    {
     "name": "stdout",
     "output_type": "stream",
     "text": [
      "You are an adult.\n"
     ]
    }
   ],
   "source": [
    "# del int\n",
    "\n",
    "age = int(input(\"Enter your age: \"))\n",
    "if age >= 18:\n",
    "    print(\"You are an adult.\")\n",
    "else:\n",
    "    print(\"You are not an adult.\")"
   ]
  },
  {
   "cell_type": "markdown",
   "id": "a6a78c28",
   "metadata": {},
   "source": [
    "### Q16: (If-Else and Comparisons)\n",
    "Check if a number is even or odd."
   ]
  },
  {
   "cell_type": "code",
   "execution_count": 46,
   "id": "a4103384",
   "metadata": {},
   "outputs": [
    {
     "name": "stdout",
     "output_type": "stream",
     "text": [
      "The number is odd.\n"
     ]
    }
   ],
   "source": [
    "Num = int(input(\"Enter a number: \"))\n",
    "if Num % 2 == 0:\n",
    "    print(\"The number is even.\")    \n",
    "else:\n",
    "    print(\"The number is odd.\")"
   ]
  },
  {
   "cell_type": "markdown",
   "id": "d0508082",
   "metadata": {},
   "source": [
    "### Q17: (If-Else and Comparisons)\n",
    "Compare two input numbers and print which is larger."
   ]
  },
  {
   "cell_type": "code",
   "execution_count": 47,
   "id": "3154a335",
   "metadata": {},
   "outputs": [
    {
     "name": "stdout",
     "output_type": "stream",
     "text": [
      "Both numbers are equal.\n"
     ]
    }
   ],
   "source": [
    "Num1 = int(input(\"Enter first number: \"))\n",
    "Num2 = int(input(\"Enter second number: \"))  \n",
    "\n",
    "if Num1 > Num2:\n",
    "    print(\"First number is greater than second number.\")\n",
    "elif Num1 < Num2:\n",
    "    print(\"Second number is greater than first number.\")    \n",
    "else:\n",
    "    print(\"Both numbers are equal.\")"
   ]
  },
  {
   "cell_type": "markdown",
   "id": "2f6fb761",
   "metadata": {},
   "source": [
    "### Q18: (Loops)\n",
    "Print numbers from 1 to 10 using a for loop."
   ]
  },
  {
   "cell_type": "code",
   "execution_count": null,
   "id": "d86bb287",
   "metadata": {},
   "outputs": [
    {
     "name": "stdout",
     "output_type": "stream",
     "text": [
      "1\n",
      "2\n",
      "3\n",
      "4\n",
      "5\n",
      "6\n",
      "7\n",
      "8\n",
      "9\n",
      "10\n"
     ]
    }
   ],
   "source": [
    "for i in range(1, 11):\n",
    "    print(i) "
   ]
  },
  {
   "cell_type": "markdown",
   "id": "719a344e",
   "metadata": {},
   "source": [
    "### Q19: (Loops)\n",
    "Print all even numbers from 0 to 20."
   ]
  },
  {
   "cell_type": "code",
   "execution_count": 57,
   "id": "75ba27f0",
   "metadata": {},
   "outputs": [
    {
     "name": "stdout",
     "output_type": "stream",
     "text": [
      "2\n",
      "4\n",
      "6\n",
      "8\n",
      "10\n",
      "12\n",
      "14\n",
      "16\n",
      "18\n",
      "20\n"
     ]
    }
   ],
   "source": [
    "for i in range(2, 21,2):\n",
    "    print(i) \n",
    "  "
   ]
  },
  {
   "cell_type": "markdown",
   "id": "05acf273",
   "metadata": {},
   "source": [
    "### Q20: (Loops)\n",
    "Print the multiplication table of 7."
   ]
  },
  {
   "cell_type": "code",
   "execution_count": 67,
   "id": "d564f8d4",
   "metadata": {},
   "outputs": [
    {
     "name": "stdout",
     "output_type": "stream",
     "text": [
      "7\n",
      "14\n",
      "21\n",
      "28\n",
      "35\n",
      "42\n",
      "49\n",
      "56\n",
      "63\n",
      "70\n"
     ]
    }
   ],
   "source": [
    "for i in range(1, 11):\n",
    "    #print(f\"7*{i}: {7*i}\")  \n",
    "    print( 7*i)"
   ]
  },
  {
   "cell_type": "markdown",
   "id": "41a216df",
   "metadata": {},
   "source": [
    "### Q21: (Loops)\n",
    "Use a while loop to print numbers from 5 to 1."
   ]
  },
  {
   "cell_type": "code",
   "execution_count": 72,
   "id": "3273c968",
   "metadata": {},
   "outputs": [
    {
     "name": "stdout",
     "output_type": "stream",
     "text": [
      "5\n",
      "4\n",
      "3\n",
      "2\n",
      "1\n"
     ]
    }
   ],
   "source": [
    "i = 5\n",
    "while i > 0:\n",
    "    print(i)\n",
    "    i -= 1  "
   ]
  },
  {
   "cell_type": "markdown",
   "id": "2d506e61",
   "metadata": {},
   "source": [
    "### Q22: (Loops)\n",
    "Print the characters of a string one by one using a loop."
   ]
  },
  {
   "cell_type": "code",
   "execution_count": null,
   "id": "78c2f435",
   "metadata": {},
   "outputs": [
    {
     "name": "stdout",
     "output_type": "stream",
     "text": [
      "S\n",
      "u\n",
      "b\n",
      "h\n",
      "a\n",
      "s\n",
      "h\n",
      "-\n",
      "K\n",
      "u\n",
      "m\n",
      "a\n",
      "r\n",
      " \n"
     ]
    }
   ],
   "source": [
    "text = \"Subhash Kumar \"\n",
    "for char in text:\n",
    "    print(char)"
   ]
  },
  {
   "cell_type": "markdown",
   "id": "92d4177d",
   "metadata": {},
   "source": [
    "### Q23: (String Operations)\n",
    "Concatenate 'Hello' and 'World' and print."
   ]
  },
  {
   "cell_type": "code",
   "execution_count": 134,
   "id": "18a69cf1",
   "metadata": {},
   "outputs": [
    {
     "name": "stdout",
     "output_type": "stream",
     "text": [
      "Hello World\n"
     ]
    }
   ],
   "source": [
    "Greeting = \"Hello\" +\" \" + \"World\"\n",
    "print(Greeting)"
   ]
  },
  {
   "cell_type": "markdown",
   "id": "0117a785",
   "metadata": {},
   "source": [
    "### Q24: (String Operations)\n",
    "Repeat the word 'Yes' 4 times using *."
   ]
  },
  {
   "cell_type": "code",
   "execution_count": 135,
   "id": "b3c07d0b",
   "metadata": {},
   "outputs": [
    {
     "name": "stdout",
     "output_type": "stream",
     "text": [
      "yesyesyesyes\n"
     ]
    }
   ],
   "source": [
    "print((\"yes\" * 4).strip())"
   ]
  },
  {
   "cell_type": "markdown",
   "id": "c33b1381",
   "metadata": {},
   "source": [
    "### Q25: (String Operations)\n",
    "Find the length of a string input by user."
   ]
  },
  {
   "cell_type": "code",
   "execution_count": 136,
   "id": "13542bdf",
   "metadata": {},
   "outputs": [
    {
     "name": "stdout",
     "output_type": "stream",
     "text": [
      "The length of the string is: 83\n"
     ]
    }
   ],
   "source": [
    "user = input(\"Enter a string: \")\n",
    "length = len(user)\n",
    "print(\"The length of the string is:\", length)"
   ]
  },
  {
   "cell_type": "markdown",
   "id": "e0ae1001",
   "metadata": {},
   "source": [
    "### Q26: (String Operations)\n",
    "Access and print the first and last character of a string."
   ]
  },
  {
   "cell_type": "code",
   "execution_count": 138,
   "id": "242cb4ae",
   "metadata": {},
   "outputs": [
    {
     "name": "stdout",
     "output_type": "stream",
     "text": [
      "Frist charcter: s\n",
      "Last Character: h\n"
     ]
    }
   ],
   "source": [
    "user1 = input(\"Enter a string: \")\n",
    "\n",
    "if len(user1) >0:\n",
    "    print(\"Frist charcter:\", user1[0])\n",
    "    print(\"Last Character:\", user1[-1])\n"
   ]
  },
  {
   "cell_type": "markdown",
   "id": "a25edfc7",
   "metadata": {},
   "source": [
    "### Q27: (Lists)\n",
    "Create a list of 5 fruits and print the third item."
   ]
  },
  {
   "cell_type": "code",
   "execution_count": 140,
   "id": "1f006ff1",
   "metadata": {},
   "outputs": [
    {
     "name": "stdout",
     "output_type": "stream",
     "text": [
      "grape\n"
     ]
    }
   ],
   "source": [
    "fruits = [\"carrot\", \"guva\", \"pomogrante\", \"grape\", \"mango\"]\n",
    "print(fruits[3])"
   ]
  },
  {
   "cell_type": "markdown",
   "id": "e6dd1826",
   "metadata": {},
   "source": [
    "### Q28: (Lists)\n",
    "Add 'mango' to the list and print."
   ]
  },
  {
   "cell_type": "code",
   "execution_count": 257,
   "id": "7d66a74e",
   "metadata": {},
   "outputs": [
    {
     "name": "stdout",
     "output_type": "stream",
     "text": [
      "['carrot', 'guva', 'pomogrante', 'grape', 'apple', 'mango']\n"
     ]
    }
   ],
   "source": [
    "fruits = [\"carrot\", \"guva\", \"pomogrante\", \"grape\", \"apple\"]\n",
    "fruits.append(\"mango\")\n",
    "print(fruits)"
   ]
  },
  {
   "cell_type": "markdown",
   "id": "1f823c7e",
   "metadata": {},
   "source": [
    "\n",
    "\n",
    "### Q29: (Lists)\n",
    "Remove the first item of the list and print the rest."
   ]
  },
  {
   "cell_type": "code",
   "execution_count": 260,
   "id": "d8259b4a",
   "metadata": {},
   "outputs": [
    {
     "name": "stdout",
     "output_type": "stream",
     "text": [
      "['guva', 'pomogrante', 'grape', 'apple']\n"
     ]
    }
   ],
   "source": [
    "fruits = [\"carrot\", \"guva\", \"pomogrante\", \"grape\", \"apple\"]\n",
    "fruits.pop(0)\n",
    "print(fruits)"
   ]
  },
  {
   "cell_type": "markdown",
   "id": "30b78d5b",
   "metadata": {},
   "source": [
    "### Q30: (Lists)\n",
    "Sort a list of numbers in descending order."
   ]
  },
  {
   "cell_type": "code",
   "execution_count": 262,
   "id": "085d942f",
   "metadata": {},
   "outputs": [
    {
     "name": "stdout",
     "output_type": "stream",
     "text": [
      "[12, 10, 8, 5, 3]\n"
     ]
    }
   ],
   "source": [
    "nums = [10, 5, 8, 12, 3]\n",
    "nums.sort(reverse=True)\n",
    "print(nums)\n"
   ]
  },
  {
   "cell_type": "markdown",
   "id": "e9361197",
   "metadata": {},
   "source": [
    "### Q31: (Lists)\n",
    "Print every second item from a list using slicing."
   ]
  },
  {
   "cell_type": "code",
   "execution_count": 265,
   "id": "69183c08",
   "metadata": {},
   "outputs": [
    {
     "name": "stdout",
     "output_type": "stream",
     "text": [
      "[10, 70, 90, 100]\n"
     ]
    }
   ],
   "source": [
    "list = [10, 20, 70, 40, 90, 60, 100]\n",
    "print(list[::2])\n",
    "# in slicing skip the one item "
   ]
  },
  {
   "cell_type": "markdown",
   "id": "b9e340f2",
   "metadata": {},
   "source": [
    "### Q32: (Tuples)\n",
    "Create a tuple with 4 numbers and print its last item."
   ]
  },
  {
   "cell_type": "code",
   "execution_count": null,
   "id": "f9f15292",
   "metadata": {},
   "outputs": [
    {
     "name": "stdout",
     "output_type": "stream",
     "text": [
      "[10, 30, 40, 90]\n"
     ]
    }
   ],
   "source": [
    "del list\n",
    "tuple = (10, 30, 40, 90)\n",
    "list = list(tuple)\n",
    "print(list)\n",
    "\n",
    "#A tuple is immutable, which means once created,\n",
    "# its elements cannot be changed, added, or removed.\n"
   ]
  },
  {
   "cell_type": "markdown",
   "id": "d3c37e08",
   "metadata": {},
   "source": [
    "### Q33: (Tuples)\n",
    "Try changing the value of an item in a tuple and observe the error."
   ]
  },
  {
   "cell_type": "code",
   "execution_count": 3,
   "id": "ed7228dc",
   "metadata": {},
   "outputs": [
    {
     "ename": "TypeError",
     "evalue": "'tuple' object does not support item assignment",
     "output_type": "error",
     "traceback": [
      "\u001b[31m---------------------------------------------------------------------------\u001b[39m",
      "\u001b[31mTypeError\u001b[39m                                 Traceback (most recent call last)",
      "\u001b[36mCell\u001b[39m\u001b[36m \u001b[39m\u001b[32mIn[3]\u001b[39m\u001b[32m, line 2\u001b[39m\n\u001b[32m      1\u001b[39m my_tuple = (\u001b[32m10\u001b[39m, \u001b[32m20\u001b[39m, \u001b[32m30\u001b[39m)\n\u001b[32m----> \u001b[39m\u001b[32m2\u001b[39m \u001b[43mmy_tuple\u001b[49m\u001b[43m[\u001b[49m\u001b[32;43m0\u001b[39;49m\u001b[43m]\u001b[49m = \u001b[32m100\u001b[39m  \n\u001b[32m      4\u001b[39m \u001b[38;5;66;03m# We try to change the first element of a tuple, \u001b[39;00m\n\u001b[32m      5\u001b[39m \u001b[38;5;66;03m# but since tuples are immutable, \u001b[39;00m\n\u001b[32m      6\u001b[39m \u001b[38;5;66;03m# their elements cannot be changed once created. \u001b[39;00m\n\u001b[32m      7\u001b[39m \u001b[38;5;66;03m# That’s why we get the error: “tuple object does not support item assignment.”\u001b[39;00m\n",
      "\u001b[31mTypeError\u001b[39m: 'tuple' object does not support item assignment"
     ]
    }
   ],
   "source": [
    "my_tuple = (10, 20, 30)\n",
    "my_tuple[0] = 100  \n",
    "\n",
    "# We try to change the first element of a tuple, \n",
    "# but since tuples are immutable, \n",
    "# their elements cannot be changed once created. \n",
    "# That’s why we get the error: “tuple object does not support item assignment.”"
   ]
  },
  {
   "cell_type": "markdown",
   "id": "9b9c8668",
   "metadata": {},
   "source": [
    "### Q34: (Tuples)\n",
    "Convert a tuple to a list, change a value, and convert it back."
   ]
  },
  {
   "cell_type": "code",
   "execution_count": null,
   "id": "f2288a67",
   "metadata": {},
   "outputs": [
    {
     "name": "stdout",
     "output_type": "stream",
     "text": [
      "(10, 99, 30)\n"
     ]
    }
   ],
   "source": [
    "my_tuple = (10, 40, 30)\n",
    "my_list = list(my_tuple)\n",
    "\n",
    "my_list[1] = 99\n",
    "my_tuple = tuple(my_list)\n",
    "print(my_tuple)\n",
    "\n",
    "# Convert tuple to list and replace the value 40 with 99\n"
   ]
  },
  {
   "cell_type": "markdown",
   "id": "63348f89",
   "metadata": {},
   "source": [
    "### Q35: (Sets)\n",
    "Create a set of 3 elements and add one more element."
   ]
  },
  {
   "cell_type": "code",
   "execution_count": 286,
   "id": "0884e279",
   "metadata": {},
   "outputs": [
    {
     "name": "stdout",
     "output_type": "stream",
     "text": [
      "{'apple', 'piiiiiiiii', 'jiiiii', 'miss'}\n"
     ]
    }
   ],
   "source": [
    "set = {\"apple\",\"miss\", \"jiiiii\"}\n",
    "set.add(\"piiiiiiiii\")\n",
    "print(set)"
   ]
  },
  {
   "cell_type": "markdown",
   "id": "54c17b59",
   "metadata": {},
   "source": [
    "### Q36: (Sets)\n",
    "Try adding a duplicate and print the set."
   ]
  },
  {
   "cell_type": "code",
   "execution_count": null,
   "id": "6ab2ac73",
   "metadata": {},
   "outputs": [
    {
     "name": "stdout",
     "output_type": "stream",
     "text": [
      "{'apple', 'jiiiii', 'miss'}\n"
     ]
    }
   ],
   "source": [
    "set = {\"apple\",\"miss\", \"jiiiii\"}\n",
    "set.add(\"miss\")\n",
    "print(set)\n",
    "# Sets automatically ignore duplicate values,\n",
    "# So adding a duplicate does not change the set.\n"
   ]
  },
  {
   "cell_type": "markdown",
   "id": "7e3fea9e",
   "metadata": {},
   "source": [
    "### Q37: (Sets)\n",
    "Perform union of two sets {1,2,3} and {3,4,5}."
   ]
  },
  {
   "cell_type": "code",
   "execution_count": 288,
   "id": "ceb5ed1f",
   "metadata": {},
   "outputs": [
    {
     "name": "stdout",
     "output_type": "stream",
     "text": [
      "{1, 2, 3, 4, 5}\n"
     ]
    }
   ],
   "source": [
    "set1 = {1, 2, 3}\n",
    "set2 = {3, 4, 5}\n",
    "\n",
    "\n",
    "union_set = set1.union(set2)\n",
    "\n",
    "print(union_set)\n"
   ]
  },
  {
   "cell_type": "markdown",
   "id": "87863627",
   "metadata": {},
   "source": [
    "### Q38: (Dictionaries)\n",
    "Create a dictionary for a student with name, age, grade. Print the dictionary."
   ]
  },
  {
   "cell_type": "code",
   "execution_count": 289,
   "id": "8e56d184",
   "metadata": {},
   "outputs": [
    {
     "name": "stdout",
     "output_type": "stream",
     "text": [
      "{'name': 'Muni Lal Ji ', 'age': 20, 'grade': 'A+'}\n"
     ]
    }
   ],
   "source": [
    "student = {\n",
    "    \"name\": \"Muni Lal Ji \",\n",
    "    \"age\": 20,\n",
    "    \"grade\": \"A+\"\n",
    "}\n",
    "\n",
    "print(student)\n"
   ]
  },
  {
   "cell_type": "markdown",
   "id": "3324e2e3",
   "metadata": {},
   "source": [
    "### Q39: (Dictionaries)\n",
    "Access the age from the dictionary."
   ]
  },
  {
   "cell_type": "code",
   "execution_count": 293,
   "id": "560006c0",
   "metadata": {},
   "outputs": [
    {
     "name": "stdout",
     "output_type": "stream",
     "text": [
      "20\n"
     ]
    }
   ],
   "source": [
    "student = {\n",
    "    \"name\": \"Muni Lal Ji \",\n",
    "    \"age\": 20,\n",
    "    \"grade\": \"A+\"\n",
    "}\n",
    "\n",
    "print(student[\"age\"])\n"
   ]
  },
  {
   "cell_type": "markdown",
   "id": "da22fe81",
   "metadata": {},
   "source": [
    "### Q40: (Dictionaries)\n",
    "Update the grade of the student."
   ]
  },
  {
   "cell_type": "code",
   "execution_count": 294,
   "id": "5d481678",
   "metadata": {},
   "outputs": [
    {
     "name": "stdout",
     "output_type": "stream",
     "text": [
      "{'name': 'Muni Lal Ji ', 'age': 20, 'grade': 'B+'}\n"
     ]
    }
   ],
   "source": [
    "student = {\n",
    "    \"name\": \"Muni Lal Ji \",\n",
    "    \"age\": 20,\n",
    "    \"grade\": \"A+\"\n",
    "}\n",
    "student[\"grade\"]= \"B+\"\n",
    "print(student)\n"
   ]
  },
  {
   "cell_type": "markdown",
   "id": "3496f8fd",
   "metadata": {},
   "source": [
    "### Q41: (Dictionaries)\n",
    "Add a new key 'subject' to the dictionary."
   ]
  },
  {
   "cell_type": "code",
   "execution_count": null,
   "id": "ae01bb44",
   "metadata": {},
   "outputs": [
    {
     "name": "stdout",
     "output_type": "stream",
     "text": [
      "{'name': 'Muni Lal Ji', 'age': 20, 'grade': 'A+', 'subject': 'CA'}\n"
     ]
    }
   ],
   "source": [
    "student = {\n",
    "    \"name\": \"Muni Lal Ji\",\n",
    "    \"age\": 20,\n",
    "    \"grade\": \"A+\"\n",
    "}\n",
    "\n",
    "student[\"subject\"] = \"CA\"\n",
    "\n",
    "print(student)\n"
   ]
  },
  {
   "cell_type": "markdown",
   "id": "99540b8b",
   "metadata": {},
   "source": [
    "### Q42: (Indexing and Slicing)\n",
    "Create a list of numbers and print elements from index 1 to 4."
   ]
  },
  {
   "cell_type": "code",
   "execution_count": 298,
   "id": "949f355a",
   "metadata": {},
   "outputs": [
    {
     "name": "stdout",
     "output_type": "stream",
     "text": [
      "[20, 40, 60]\n"
     ]
    }
   ],
   "source": [
    "number = [10,20,40, 60, 90,110]\n",
    "print(number[1:4])"
   ]
  },
  {
   "cell_type": "markdown",
   "id": "5ac04cc4",
   "metadata": {},
   "source": [
    "### Q43: (Indexing and Slicing)\n",
    "Access every second element in the list."
   ]
  },
  {
   "cell_type": "code",
   "execution_count": 303,
   "id": "a8b98caf",
   "metadata": {},
   "outputs": [
    {
     "name": "stdout",
     "output_type": "stream",
     "text": [
      "[10, 40, 90]\n"
     ]
    }
   ],
   "source": [
    "numbers = [10, 20, 40, 60, 90, 110]\n",
    "print(numbers[::2])\n"
   ]
  },
  {
   "cell_type": "markdown",
   "id": "e3839415",
   "metadata": {},
   "source": [
    "### Q44: (Indexing and Slicing)\n",
    "Print the last three characters of the string 'Programming'."
   ]
  },
  {
   "cell_type": "code",
   "execution_count": null,
   "id": "edbace21",
   "metadata": {},
   "outputs": [
    {
     "name": "stdout",
     "output_type": "stream",
     "text": [
      "ing\n"
     ]
    }
   ],
   "source": [
    "\n",
    "text = \"programming\"\n",
    "print(text[-3:])\n"
   ]
  },
  {
   "cell_type": "markdown",
   "id": "63a113fd",
   "metadata": {},
   "source": [
    "### Q45: (Nested Structures)\n",
    "Create a nested list and print the second element of the first list."
   ]
  },
  {
   "cell_type": "code",
   "execution_count": 314,
   "id": "44952db5",
   "metadata": {},
   "outputs": [
    {
     "name": "stdout",
     "output_type": "stream",
     "text": [
      "20\n"
     ]
    }
   ],
   "source": [
    "nested = [[10, 20, 30], [40, 50, 60], [70, 80, 90]]\n",
    "print(nested[0][1])"
   ]
  },
  {
   "cell_type": "markdown",
   "id": "4ba85ec0",
   "metadata": {},
   "source": [
    "### Q46: (Nested Structures)\n",
    "Create a nested dictionary and access a nested value."
   ]
  },
  {
   "cell_type": "code",
   "execution_count": 318,
   "id": "c61664b0",
   "metadata": {},
   "outputs": [
    {
     "name": "stdout",
     "output_type": "stream",
     "text": [
      "A\n"
     ]
    }
   ],
   "source": [
    "student = {\n",
    "    \"name\": \"Subhash\",\n",
    "    \"details\": {\n",
    "        \"age\": 24,\n",
    "        \"grade\": \"A\",\n",
    "        \"subject\": \"Math\"\n",
    "    }\n",
    "}\n",
    "\n",
    "print(student[\"details\"][\"grade\"])\n"
   ]
  },
  {
   "cell_type": "markdown",
   "id": "8cb0baee",
   "metadata": {},
   "source": [
    "### Q47: (NumPy Basics)\n",
    "Import numpy and create a 1D array from 0 to 9."
   ]
  },
  {
   "cell_type": "code",
   "execution_count": 319,
   "id": "83f5ab2d",
   "metadata": {},
   "outputs": [
    {
     "name": "stdout",
     "output_type": "stream",
     "text": [
      "[0 1 2 3 4 5 6 7 8 9]\n"
     ]
    }
   ],
   "source": [
    "import numpy as np\n",
    "subhash = np.arange(10)\n",
    "print(subhash)"
   ]
  },
  {
   "cell_type": "markdown",
   "id": "601eb4aa",
   "metadata": {},
   "source": [
    "### Q48: (NumPy Basics)\n",
    "Create a 2D array with shape (2,3)."
   ]
  },
  {
   "cell_type": "code",
   "execution_count": 320,
   "id": "9c499c37",
   "metadata": {},
   "outputs": [
    {
     "name": "stdout",
     "output_type": "stream",
     "text": [
      "[[1 2 3]\n",
      " [4 5 6]]\n",
      "Shape: (2, 3)\n"
     ]
    }
   ],
   "source": [
    "import numpy as np\n",
    "\n",
    "arr = np.array([[1, 2, 3],\n",
    "                [4, 5, 6]])\n",
    "\n",
    "print(arr)\n",
    "print(\"Shape:\", arr.shape)\n"
   ]
  },
  {
   "cell_type": "markdown",
   "id": "9390f908",
   "metadata": {},
   "source": [
    "### Q49: (NumPy Basics)\n",
    "Print the shape and dtype of an array."
   ]
  },
  {
   "cell_type": "code",
   "execution_count": 321,
   "id": "31c66039",
   "metadata": {},
   "outputs": [
    {
     "name": "stdout",
     "output_type": "stream",
     "text": [
      "Data type of array: int64\n"
     ]
    }
   ],
   "source": [
    "print(\"Data type of array:\", arr.dtype)"
   ]
  },
  {
   "cell_type": "markdown",
   "id": "098f024d",
   "metadata": {},
   "source": [
    "### Q50: (NumPy Basics)\n",
    "Use np.linspace to create 5 values from 1 to 10."
   ]
  },
  {
   "cell_type": "code",
   "execution_count": 322,
   "id": "e85a5db3",
   "metadata": {},
   "outputs": [
    {
     "name": "stdout",
     "output_type": "stream",
     "text": [
      "[ 1.    3.25  5.5   7.75 10.  ]\n"
     ]
    }
   ],
   "source": [
    "import numpy as np\n",
    "\n",
    "values = np.linspace(1, 10, 5)\n",
    "print(values)\n"
   ]
  },
  {
   "cell_type": "markdown",
   "id": "322eda7a",
   "metadata": {},
   "source": [
    "### Q51: (NumPy Basics)\n",
    "Generate a random array of shape (3,3)."
   ]
  },
  {
   "cell_type": "code",
   "execution_count": 323,
   "id": "58c9844e",
   "metadata": {},
   "outputs": [
    {
     "name": "stdout",
     "output_type": "stream",
     "text": [
      "[[0.37052775 0.57057894 0.06390329]\n",
      " [0.82015794 0.05288311 0.28275268]\n",
      " [0.98836652 0.24518559 0.15479102]]\n"
     ]
    }
   ],
   "source": [
    "import numpy as np\n",
    "\n",
    "random_array = np.random.rand(3, 3)\n",
    "\n",
    "print(random_array)\n"
   ]
  },
  {
   "cell_type": "markdown",
   "id": "f5212299",
   "metadata": {},
   "source": [
    "### Q52: (NumPy Basics)\n",
    "Find the maximum and mean of a numpy array."
   ]
  },
  {
   "cell_type": "code",
   "execution_count": 324,
   "id": "fa5bfd48",
   "metadata": {},
   "outputs": [
    {
     "name": "stdout",
     "output_type": "stream",
     "text": [
      "Maximum: 50\n",
      "Mean: 30.0\n"
     ]
    }
   ],
   "source": [
    "import numpy as np\n",
    "\n",
    "arr = np.array([10, 20, 30, 40, 50])\n",
    "\n",
    "max_value = arr.max()\n",
    "\n",
    "mean_value = arr.mean()\n",
    "\n",
    "print(\"Maximum:\", max_value)\n",
    "print(\"Mean:\", mean_value)\n"
   ]
  },
  {
   "cell_type": "markdown",
   "id": "3321a13c",
   "metadata": {},
   "source": [
    "### Q53: (NumPy Basics)\n",
    "Access element at row 1, col 2 in a 2D array."
   ]
  },
  {
   "cell_type": "code",
   "execution_count": 325,
   "id": "405953b3",
   "metadata": {},
   "outputs": [
    {
     "name": "stdout",
     "output_type": "stream",
     "text": [
      "60\n"
     ]
    }
   ],
   "source": [
    "import numpy as np\n",
    "\n",
    "arr = np.array([[10, 20, 30],\n",
    "                [40, 50, 60],\n",
    "                [70, 80, 90]])\n",
    "\n",
    "\n",
    "element = arr[1, 2]\n",
    "\n",
    "print(element)\n"
   ]
  },
  {
   "cell_type": "markdown",
   "id": "10459ec9",
   "metadata": {},
   "source": [
    "### Q54: (NumPy Basics)\n",
    "Flatten a 2D array."
   ]
  },
  {
   "cell_type": "code",
   "execution_count": 255,
   "id": "dd3563f5",
   "metadata": {},
   "outputs": [
    {
     "name": "stdout",
     "output_type": "stream",
     "text": [
      "[1 2 3 4 5 6]\n"
     ]
    }
   ],
   "source": [
    "import numpy as np\n",
    "\n",
    "arr = np.array([[1, 2, 3],\n",
    "                [4, 5, 6]])\n",
    "\n",
    "flat_arr = arr.flatten()\n",
    "print(flat_arr)\n",
    "\n",
    "# multi dimension to single dymension\n"
   ]
  },
  {
   "cell_type": "markdown",
   "id": "85fed543",
   "metadata": {},
   "source": [
    "### Q55: (NumPy Basics)\n",
    "Stack two arrays vertically."
   ]
  },
  {
   "cell_type": "code",
   "execution_count": 252,
   "id": "6e025b59",
   "metadata": {},
   "outputs": [
    {
     "name": "stdout",
     "output_type": "stream",
     "text": [
      "[[10 20 30]\n",
      " [40 50 60]]\n"
     ]
    }
   ],
   "source": [
    "import numpy as np\n",
    "\n",
    "arr = np.array([\n",
    "    [10, 20, 30],   \n",
    "    [40, 50, 60],   \n",
    "    [70, 80, 90],   \n",
    "    [100, 110, 120] \n",
    "])\n",
    "\n",
    "# Slice the first two rows\n",
    "sliced = arr[:2, ]\n",
    "\n",
    "\n",
    "print(sliced)\n"
   ]
  },
  {
   "cell_type": "markdown",
   "id": "b42406ff",
   "metadata": {},
   "source": [
    "### Q56: (NumPy Basics)\n",
    "Slice the first two rows of a 2D numpy array."
   ]
  },
  {
   "cell_type": "code",
   "execution_count": null,
   "id": "5761da43",
   "metadata": {},
   "outputs": [],
   "source": [
    "import numpy as np\n",
    "\n",
    "arr = np.array([[1, 7, 3],\n",
    "                [4, 5, 6],\n",
    "                [7, 12, 9]])\n",
    "\n",
    "\n",
    "sliced = arr[::2]  \n",
    "\n",
    "print(sliced)\n"
   ]
  },
  {
   "cell_type": "markdown",
   "id": "3fd758ea",
   "metadata": {},
   "source": [
    "### Q57: (NumPy Basics)\n",
    "Slice the first two rows of a 2D numpy array."
   ]
  },
  {
   "cell_type": "code",
   "execution_count": 250,
   "id": "30c54905",
   "metadata": {},
   "outputs": [
    {
     "name": "stdout",
     "output_type": "stream",
     "text": [
      "[[ 1  7  3]\n",
      " [ 7 12  9]]\n"
     ]
    }
   ],
   "source": [
    "import numpy as np\n",
    "\n",
    "arr = np.array([[1, 7, 3],\n",
    "                [4, 5, 6],\n",
    "                [7, 12, 9]])\n",
    "\n",
    "\n",
    "sliced = arr[::2]  \n",
    "\n",
    "print(sliced)\n"
   ]
  },
  {
   "cell_type": "markdown",
   "id": "c0ca2516",
   "metadata": {},
   "source": [
    "### Q58: (NumPy Basics)\n",
    "Print the shape and dtype of an array."
   ]
  },
  {
   "cell_type": "code",
   "execution_count": 239,
   "id": "9b5c0ea6",
   "metadata": {},
   "outputs": [
    {
     "name": "stdout",
     "output_type": "stream",
     "text": [
      "Shape: (2, 3)\n",
      "Data type: int64\n"
     ]
    }
   ],
   "source": [
    "import numpy as np\n",
    "\n",
    "arr = np.array([[1, 2, 3], [4, 5, 6]])\n",
    "\n",
    "print(\"Shape:\", arr.shape)    \n",
    "print(\"Data type:\", arr.dtype)  "
   ]
  },
  {
   "cell_type": "markdown",
   "id": "59015fbd",
   "metadata": {},
   "source": [
    "### Q59: (String Operations)\n",
    "Repeat the word 'Yes' 4 times using *."
   ]
  },
  {
   "cell_type": "code",
   "execution_count": 238,
   "id": "80a1bacd",
   "metadata": {},
   "outputs": [
    {
     "name": "stdout",
     "output_type": "stream",
     "text": [
      "Yes Yes Yes Yes \n"
     ]
    }
   ],
   "source": [
    "print(\"Yes \" *4)"
   ]
  },
  {
   "cell_type": "markdown",
   "id": "63be7148",
   "metadata": {},
   "source": [
    "### Q60: (Variable and Data Types)\n",
    "Use multiple assignment to assign 3 values to a, b, c."
   ]
  },
  {
   "cell_type": "code",
   "execution_count": 236,
   "id": "ce3c912f",
   "metadata": {},
   "outputs": [
    {
     "name": "stdout",
     "output_type": "stream",
     "text": [
      "10 20 40\n"
     ]
    }
   ],
   "source": [
    "a,b,c = 10, 20, 40\n",
    "print(a,b,c,)"
   ]
  },
  {
   "cell_type": "markdown",
   "id": "6a3810a9",
   "metadata": {},
   "source": [
    "### Q61: (Dictionaries)\n",
    "Add a new key 'subject' to the dictionary."
   ]
  },
  {
   "cell_type": "code",
   "execution_count": 235,
   "id": "27b4e368",
   "metadata": {},
   "outputs": [
    {
     "name": "stdout",
     "output_type": "stream",
     "text": [
      "{'name': 'Subhash Kumar JI', 'age': 20, 'subject': 'Math'}\n"
     ]
    }
   ],
   "source": [
    "student = {\"name\": \"Subhash Kumar JI\", \"age\": 20}\n",
    "\n",
    "student[\"subject\"] = \"Math\" \n",
    "\n",
    "print(student)\n"
   ]
  },
  {
   "cell_type": "markdown",
   "id": "73c9d25c",
   "metadata": {},
   "source": [
    "### Q62: (Variable and Data Types)\n",
    "Assign the value 10 to x and then add 5 to it. Print the result."
   ]
  },
  {
   "cell_type": "code",
   "execution_count": 231,
   "id": "56d627e6",
   "metadata": {},
   "outputs": [
    {
     "name": "stdout",
     "output_type": "stream",
     "text": [
      "15\n"
     ]
    }
   ],
   "source": [
    "x = 10\n",
    "x = x+5\n",
    "print (x)"
   ]
  },
  {
   "cell_type": "markdown",
   "id": "9f589b52",
   "metadata": {},
   "source": [
    "### Q63: (Nested Structures)\n",
    "Create a nested list and print the second element of the first list."
   ]
  },
  {
   "cell_type": "code",
   "execution_count": null,
   "id": "d969ac92",
   "metadata": {},
   "outputs": [
    {
     "name": "stdout",
     "output_type": "stream",
     "text": [
      "40\n"
     ]
    }
   ],
   "source": [
    "my_list = [[10, 20, 40], [50, 90, 60], [100, 200, 400]]\n",
    "print(my_list[0][2]) \n",
    "\n",
    "# Use two indexes like list[i][j] to access the jth item of the ith inner list.\n"
   ]
  },
  {
   "cell_type": "markdown",
   "id": "8f60f598",
   "metadata": {},
   "source": [
    "### Q64: (Loops)\n",
    "Print the characters of a string one by one using a loop."
   ]
  },
  {
   "cell_type": "code",
   "execution_count": 226,
   "id": "5aa737d5",
   "metadata": {},
   "outputs": [
    {
     "name": "stdout",
     "output_type": "stream",
     "text": [
      "H\n",
      "e\n",
      "l\n",
      "l\n",
      "o\n",
      " \n",
      "s\n",
      "i\n",
      "r\n"
     ]
    }
   ],
   "source": [
    "Text  =  \"Hello sir\"\n",
    "for char in Text:\n",
    "    print(char)"
   ]
  },
  {
   "cell_type": "markdown",
   "id": "e3beb30b",
   "metadata": {},
   "source": [
    "### Q65: (Sets)\n",
    "Try adding a duplicate and print the set."
   ]
  },
  {
   "cell_type": "code",
   "execution_count": null,
   "id": "389007f3",
   "metadata": {},
   "outputs": [
    {
     "name": "stdout",
     "output_type": "stream",
     "text": [
      "{'apple', 'banana', 'cherry'}\n"
     ]
    }
   ],
   "source": [
    "fruits = {\"apple\", \"banana\", \"cherry\"}\n",
    "\n",
    "fruits.add(\"banana\")\n",
    "\n",
    "print(fruits)\n"
   ]
  },
  {
   "cell_type": "markdown",
   "id": "6eaf1634",
   "metadata": {},
   "source": [
    "### Q66: (NumPy Basics)\n",
    "Flatten a 2D array."
   ]
  },
  {
   "cell_type": "code",
   "execution_count": null,
   "id": "debcbc69",
   "metadata": {},
   "outputs": [
    {
     "name": "stdout",
     "output_type": "stream",
     "text": [
      "[1 2 3 4 6 9]\n"
     ]
    }
   ],
   "source": [
    "import numpy as np\n",
    "arr = np.array([[1,2,3],[4,6,9]])\n",
    "arr_flat = arr.flatten()\n",
    "print(arr_flat)\n",
    "#Flattening means converting a multi-dimensional array into a single 1D array by putting all elements in one sequence."
   ]
  },
  {
   "cell_type": "markdown",
   "id": "8b710609",
   "metadata": {},
   "source": [
    "### Q67: (Printing and Input)\n",
    "Ask for a favorite color and print it twice using multiplication."
   ]
  },
  {
   "cell_type": "code",
   "execution_count": 220,
   "id": "94eb9f7d",
   "metadata": {},
   "outputs": [
    {
     "name": "stdout",
     "output_type": "stream",
     "text": [
      "dsddsdsd dsddsdsd \n"
     ]
    }
   ],
   "source": [
    "Dangerous_color = input(\"Enter the color you want multiply:\")\n",
    "print((Dangerous_color + \" \") *2)"
   ]
  },
  {
   "cell_type": "markdown",
   "id": "919bd661",
   "metadata": {},
   "source": [
    "### Q68: (String Operations)\n",
    "Repeat the word 'Yes' 4 times using *."
   ]
  },
  {
   "cell_type": "code",
   "execution_count": 214,
   "id": "46d300ae",
   "metadata": {},
   "outputs": [
    {
     "name": "stdout",
     "output_type": "stream",
     "text": [
      "Yes Yes Yes Yes \n"
     ]
    }
   ],
   "source": [
    "print(\"Yes \" * 4)"
   ]
  },
  {
   "cell_type": "markdown",
   "id": "586e35f5",
   "metadata": {},
   "source": [
    "### Q69: (Printing and Input)\n",
    "Ask for a favorite color and print it twice using multiplication."
   ]
  },
  {
   "cell_type": "code",
   "execution_count": 211,
   "id": "fafd8533",
   "metadata": {},
   "outputs": [
    {
     "name": "stdout",
     "output_type": "stream",
     "text": [
      "subhdsbdhsdbsdsubhdsbdhsdbsd\n"
     ]
    }
   ],
   "source": [
    "color = input(\"Enter your faveroute color.\")\n",
    "print(color*2)"
   ]
  },
  {
   "cell_type": "markdown",
   "id": "3d83eb40",
   "metadata": {},
   "source": [
    "### Q70: (If-Else and Comparisons)\n",
    "Check if a number is even or odd."
   ]
  },
  {
   "cell_type": "code",
   "execution_count": 210,
   "id": "563efb02",
   "metadata": {},
   "outputs": [
    {
     "name": "stdout",
     "output_type": "stream",
     "text": [
      "5 is odd.\n"
     ]
    }
   ],
   "source": [
    "num = int(input(\"Enter The number:\"))\n",
    "if num%2 ==0:\n",
    "    print(f\"{num} is even.\")\n",
    "else:\n",
    "    print(f\"{num} is odd.\")\n"
   ]
  },
  {
   "cell_type": "markdown",
   "id": "d8557f87",
   "metadata": {},
   "source": [
    "### Q71: (NumPy Basics)\n",
    "Import numpy and create a 1D array from 0 to 9."
   ]
  },
  {
   "cell_type": "code",
   "execution_count": null,
   "id": "78ed5b9c",
   "metadata": {},
   "outputs": [
    {
     "name": "stdout",
     "output_type": "stream",
     "text": [
      "[0 1 2 3 4 5 6 7 8 9]\n"
     ]
    }
   ],
   "source": [
    "import numpy as np \n",
    "arr = np.arange(10)\n",
    "print(arr)"
   ]
  },
  {
   "cell_type": "markdown",
   "id": "98d24946",
   "metadata": {},
   "source": [
    "### Q72: (Loops)\n",
    "Use a while loop to print numbers from 5 to 1."
   ]
  },
  {
   "cell_type": "code",
   "execution_count": null,
   "id": "1ee71489",
   "metadata": {},
   "outputs": [
    {
     "name": "stdout",
     "output_type": "stream",
     "text": [
      "0\n",
      "1\n",
      "2\n",
      "3\n",
      "4\n",
      "5\n"
     ]
    }
   ],
   "source": [
    "i = 1\n",
    "while i<= 5:\n",
    "    print(i)\n",
    "    i +=1"
   ]
  },
  {
   "cell_type": "markdown",
   "id": "80e2a7ca",
   "metadata": {},
   "source": [
    "### Q73: (If-Else and Comparisons)\n",
    "Check if the number 12 is greater than 10 and print a message."
   ]
  },
  {
   "cell_type": "code",
   "execution_count": 201,
   "id": "92132b21",
   "metadata": {},
   "outputs": [
    {
     "name": "stdout",
     "output_type": "stream",
     "text": [
      "9 is not greater than 10.\n"
     ]
    }
   ],
   "source": [
    "num = int(input(\"Enter a number: \"))\n",
    "\n",
    "if num > 10:\n",
    "    print(f\"{num} is greater than 10.\")\n",
    "else:\n",
    "    print(f\"{num} is not greater than 10.\")\n"
   ]
  },
  {
   "cell_type": "markdown",
   "id": "abe92348",
   "metadata": {},
   "source": [
    "### Q74: (Indexing and Slicing)\n",
    "Access every second element in the list."
   ]
  },
  {
   "cell_type": "code",
   "execution_count": 197,
   "id": "92b589eb",
   "metadata": {},
   "outputs": [
    {
     "name": "stdout",
     "output_type": "stream",
     "text": [
      "[10, 30, 50, 80]\n"
     ]
    }
   ],
   "source": [
    "list = [10, 20, 30, 40, 50, 60, 80]\n",
    "\n",
    "# Access every second element// skip one each item or take 2nd item \n",
    "print(list[::2])  "
   ]
  },
  {
   "cell_type": "markdown",
   "id": "c5b670db",
   "metadata": {},
   "source": [
    "### Q75: (Loops)\n",
    "Use a while loop to print numbers from 5 to 1."
   ]
  },
  {
   "cell_type": "code",
   "execution_count": 194,
   "id": "b8e89cf1",
   "metadata": {},
   "outputs": [
    {
     "name": "stdout",
     "output_type": "stream",
     "text": [
      "5\n",
      "4\n",
      "3\n",
      "2\n",
      "1\n"
     ]
    }
   ],
   "source": [
    "i =5\n",
    "while i >=1:\n",
    "    print(i)\n",
    "    i -=1"
   ]
  },
  {
   "cell_type": "markdown",
   "id": "c4f821ef",
   "metadata": {},
   "source": [
    "### Q76: (Printing and Input)\n",
    "Print the result of 10 + 20."
   ]
  },
  {
   "cell_type": "code",
   "execution_count": 193,
   "id": "e929a34c",
   "metadata": {},
   "outputs": [
    {
     "name": "stdout",
     "output_type": "stream",
     "text": [
      "The sum is: 30\n"
     ]
    }
   ],
   "source": [
    "print(\"The sum is:\", 10+20)"
   ]
  },
  {
   "cell_type": "markdown",
   "id": "fcbda71a",
   "metadata": {},
   "source": [
    "### Q77: (Printing and Input)\n",
    "Ask for a favorite color and print it twice using multiplication."
   ]
  },
  {
   "cell_type": "code",
   "execution_count": 191,
   "id": "683693c9",
   "metadata": {},
   "outputs": [
    {
     "name": "stdout",
     "output_type": "stream",
     "text": [
      "sdsdssdsdssdsdssdsds\n"
     ]
    }
   ],
   "source": [
    "color = input(\"Enter your favourite color: \")\n",
    "print(color *2)\n"
   ]
  },
  {
   "cell_type": "markdown",
   "id": "895821ab",
   "metadata": {},
   "source": [
    "### Q78: (Lists)\n",
    "Remove the first item of the list and print the rest."
   ]
  },
  {
   "cell_type": "code",
   "execution_count": 189,
   "id": "7293b340",
   "metadata": {},
   "outputs": [
    {
     "name": "stdout",
     "output_type": "stream",
     "text": [
      "['banana', 'cherry', 'mango', 'orange']\n"
     ]
    }
   ],
   "source": [
    "fruits = [\"apple\", \"banana\", \"cherry\", \"mango\", \"orange\"]\n",
    "\n",
    "# delte \n",
    "fruits.pop(0)\n",
    "print(fruits)\n"
   ]
  },
  {
   "cell_type": "markdown",
   "id": "16a008e4",
   "metadata": {},
   "source": [
    "### Q79: (NumPy Basics)\n",
    "Use np.linspace to create 5 values from 1 to 10."
   ]
  },
  {
   "cell_type": "code",
   "execution_count": null,
   "id": "6b048475",
   "metadata": {},
   "outputs": [
    {
     "name": "stdout",
     "output_type": "stream",
     "text": [
      "[ 1.    3.25  5.5   7.75 10.  ]\n"
     ]
    }
   ],
   "source": [
    "import numpy as np\n",
    "# \n",
    "values = np.linspace(1,10,5) #it generate number same differenv=ce each number \n",
    "# like 3.25-1 = 2.25, same as 5.5-3.25= 2.25 \n",
    "print(values)"
   ]
  },
  {
   "cell_type": "markdown",
   "id": "c09c1661",
   "metadata": {},
   "source": [
    "### Q80: (Complex Numbers)\n",
    "Create complex numbers x = 2+3j and y = 4-2j. Print their sum."
   ]
  },
  {
   "cell_type": "code",
   "execution_count": 186,
   "id": "b102bdc8",
   "metadata": {},
   "outputs": [
    {
     "name": "stdout",
     "output_type": "stream",
     "text": [
      "(6+1j)\n"
     ]
    }
   ],
   "source": [
    "x = 2 + 3j\n",
    "y = 4-2j\n",
    "sum = x + y\n",
    "print(sum)"
   ]
  },
  {
   "cell_type": "markdown",
   "id": "65c6fe14",
   "metadata": {},
   "source": [
    "### Q81: (Printing and Input)\n",
    "Ask for a favorite color and print it twice using multiplication."
   ]
  },
  {
   "cell_type": "code",
   "execution_count": 185,
   "id": "8e180fa7",
   "metadata": {},
   "outputs": [
    {
     "name": "stdout",
     "output_type": "stream",
     "text": [
      "subhashsubhash\n"
     ]
    }
   ],
   "source": [
    "color=input(\"Enter your faviroute color:\")\n",
    "print(color*2)"
   ]
  },
  {
   "cell_type": "markdown",
   "id": "e3a2cd03",
   "metadata": {},
   "source": [
    "### Q82: (Complex Numbers)\n",
    "Create complex numbers x = 2+3j and y = 4-2j. Print their sum."
   ]
  },
  {
   "cell_type": "code",
   "execution_count": null,
   "id": "61f21249",
   "metadata": {},
   "outputs": [
    {
     "name": "stdout",
     "output_type": "stream",
     "text": [
      "(6+1j)\n"
     ]
    }
   ],
   "source": [
    "x = 2 + 3j\n",
    "y = 4 - 2j\n",
    "\n",
    "sum = x + y\n",
    "print(sum)"
   ]
  },
  {
   "cell_type": "markdown",
   "id": "6c0d32cd",
   "metadata": {},
   "source": [
    "### Q83: (Dictionaries)\n",
    "Access the age from the dictionary."
   ]
  },
  {
   "cell_type": "code",
   "execution_count": 172,
   "id": "e55bffd0",
   "metadata": {},
   "outputs": [
    {
     "name": "stdout",
     "output_type": "stream",
     "text": [
      "25\n"
     ]
    }
   ],
   "source": [
    "person = {\n",
    "    \"name\": \"Subhash Kumar Sharma\",\n",
    "    \"age\": 25,\n",
    "    \"city\": \"Kathmandu\"\n",
    "}\n",
    "\n",
    "print(person[\"age\"])\n"
   ]
  },
  {
   "cell_type": "markdown",
   "id": "bb072d6a",
   "metadata": {},
   "source": [
    "### Q84: (Lists)\n",
    "Create a list of 5 fruits and print the third item."
   ]
  },
  {
   "cell_type": "code",
   "execution_count": 173,
   "id": "28eb7291",
   "metadata": {},
   "outputs": [
    {
     "name": "stdout",
     "output_type": "stream",
     "text": [
      "mango\n"
     ]
    }
   ],
   "source": [
    "fruits = [\"apple\", \"banana\", \"mango\", \"orange\", \"grape\"]\n",
    "\n",
    "print(fruits[2])\n"
   ]
  },
  {
   "cell_type": "markdown",
   "id": "d402f11b",
   "metadata": {},
   "source": [
    "### Q85: (NumPy Basics)\n",
    "Stack two arrays vertically."
   ]
  },
  {
   "cell_type": "code",
   "execution_count": 174,
   "id": "7e8283e6",
   "metadata": {},
   "outputs": [
    {
     "name": "stdout",
     "output_type": "stream",
     "text": [
      "[[1 2 3]\n",
      " [4 5 6]]\n"
     ]
    }
   ],
   "source": [
    "import numpy as np\n",
    "\n",
    "a = np.array([1, 2, 3]) #1d arrys\n",
    "b = np.array([4, 5, 6])\n",
    "\n",
    "result = np.vstack([a, b])   # vstack is stacks arry row-wise \n",
    "# 2rows 3 column (2d verticly arras)\n",
    "\n",
    "print(result)\n"
   ]
  },
  {
   "cell_type": "markdown",
   "id": "0e85c9bb",
   "metadata": {},
   "source": [
    "### Q86: (Loops)\n",
    "Use a while loop to print numbers from 5 to 1."
   ]
  },
  {
   "cell_type": "code",
   "execution_count": 175,
   "id": "60990e05",
   "metadata": {},
   "outputs": [
    {
     "name": "stdout",
     "output_type": "stream",
     "text": [
      "5\n",
      "4\n",
      "3\n",
      "2\n",
      "1\n"
     ]
    }
   ],
   "source": [
    "for i in range(5, 0, -1):  # start at 5, end before 0, (n-1)\n",
    "    print(i)\n"
   ]
  },
  {
   "cell_type": "markdown",
   "id": "ee95fb1e",
   "metadata": {},
   "source": [
    "### Q87: (Lists)\n",
    "Remove the first item of the list and print the rest."
   ]
  },
  {
   "cell_type": "code",
   "execution_count": 176,
   "id": "68ec305a",
   "metadata": {},
   "outputs": [
    {
     "name": "stdout",
     "output_type": "stream",
     "text": [
      "['grape', 'banana', 'cherry', 'orange']\n"
     ]
    }
   ],
   "source": [
    "fruits = [\"grape\", \"banana\", \"cherry\", \"Mango\", \"orange\"]\n",
    "fruits.pop(3) #delte 4th coulmn \n",
    "print(fruits)"
   ]
  },
  {
   "cell_type": "markdown",
   "id": "2e9a3666",
   "metadata": {},
   "source": [
    "### Q88: (Lists)\n",
    "Create a list of 5 fruits and print the third item."
   ]
  },
  {
   "cell_type": "code",
   "execution_count": 177,
   "id": "dd40a37b",
   "metadata": {},
   "outputs": [
    {
     "name": "stdout",
     "output_type": "stream",
     "text": [
      "The 3rd fruit is: cherry\n"
     ]
    }
   ],
   "source": [
    "fruits = [\"grape\", \"banana\", \"cherry\", \"Mango\", \"orange\"]\n",
    "print(\"The 3rd fruit is:\", fruits[2])"
   ]
  },
  {
   "cell_type": "markdown",
   "id": "b0ca2b3f",
   "metadata": {},
   "source": [
    "### Q89: (Printing and Input)\n",
    "Ask for a favorite color and print it twice using multiplication."
   ]
  },
  {
   "cell_type": "code",
   "execution_count": 178,
   "id": "d36639ea",
   "metadata": {},
   "outputs": [
    {
     "name": "stdout",
     "output_type": "stream",
     "text": [
      "Your favorite color is: \n"
     ]
    }
   ],
   "source": [
    "color = input(\"Enter your favorite color: \")\n",
    "print(\"Your favorite color is:\",color*2) "
   ]
  },
  {
   "cell_type": "markdown",
   "id": "fef04f52",
   "metadata": {},
   "source": [
    "### Q90: (Tuples)\n",
    "Convert a tuple to a list, change a value, and convert it back."
   ]
  },
  {
   "cell_type": "code",
   "execution_count": 179,
   "id": "9ba06174",
   "metadata": {},
   "outputs": [
    {
     "name": "stdout",
     "output_type": "stream",
     "text": [
      "(10, 20, 600000000000000)\n"
     ]
    }
   ],
   "source": [
    "tuple1 = (10,20,30)\n",
    "list1 = list(tuple1)\n",
    "list1[2]= 600000000000000\n",
    "tuple1 = tuple(list1)\n",
    "print(tuple1)"
   ]
  },
  {
   "cell_type": "markdown",
   "id": "e9b6c054",
   "metadata": {},
   "source": [
    "### Q91: (NumPy Basics)\n",
    "Import numpy and create a 1D array from 0 to 9."
   ]
  },
  {
   "cell_type": "code",
   "execution_count": 180,
   "id": "89803c5d",
   "metadata": {},
   "outputs": [
    {
     "name": "stdout",
     "output_type": "stream",
     "text": [
      "[0 1 2 3 4 5 6 7 8 9]\n"
     ]
    }
   ],
   "source": [
    "import numpy as np\n",
    "arr = np.arange(10)\n",
    "print(arr)"
   ]
  },
  {
   "cell_type": "markdown",
   "id": "64b36a8c",
   "metadata": {},
   "source": [
    "### Q92: (Variable and Data Types)\n",
    "Use multiple assignment to assign 3 values to a, b, c."
   ]
  },
  {
   "cell_type": "code",
   "execution_count": 181,
   "id": "c514add9",
   "metadata": {},
   "outputs": [
    {
     "name": "stdout",
     "output_type": "stream",
     "text": [
      "9\n",
      "8\n",
      "7\n"
     ]
    }
   ],
   "source": [
    "a,b,c = 9, 8, 7\n",
    "print(a)\n",
    "print(b)\n",
    "print(c)    "
   ]
  },
  {
   "cell_type": "markdown",
   "id": "4a7e08ed",
   "metadata": {},
   "source": [
    "### Q93: (Variable and Data Types)\n",
    "Check the type of variable `val = 3.14`."
   ]
  },
  {
   "cell_type": "code",
   "execution_count": 182,
   "id": "ecb1e98a",
   "metadata": {},
   "outputs": [
    {
     "name": "stdout",
     "output_type": "stream",
     "text": [
      "<class 'float'>\n"
     ]
    }
   ],
   "source": [
    "val = 3.14\n",
    "print(type(val))    "
   ]
  },
  {
   "cell_type": "markdown",
   "id": "871b932c",
   "metadata": {},
   "source": [
    "### Q94: (Tuples)\n",
    "Convert a tuple to a list, change a value, and convert it back."
   ]
  },
  {
   "cell_type": "code",
   "execution_count": 183,
   "id": "19469256",
   "metadata": {},
   "outputs": [
    {
     "name": "stdout",
     "output_type": "stream",
     "text": [
      "(10, 99, 300)\n"
     ]
    }
   ],
   "source": [
    "my_tuple = (10, 20, 300)       \n",
    "my_list = list(my_tuple)       \n",
    "\n",
    "my_list[1] = 99                \n",
    "\n",
    "my_tuple = tuple(my_list)      \n",
    "\n",
    "print(my_tuple)"
   ]
  },
  {
   "cell_type": "markdown",
   "id": "16996993",
   "metadata": {},
   "source": [
    "### Q95: (If-Else and Comparisons)\n",
    "Compare two input numbers and print which is Smaller."
   ]
  },
  {
   "cell_type": "code",
   "execution_count": 184,
   "id": "097c78f6",
   "metadata": {},
   "outputs": [
    {
     "ename": "ValueError",
     "evalue": "invalid literal for int() with base 10: ''",
     "output_type": "error",
     "traceback": [
      "\u001b[31m---------------------------------------------------------------------------\u001b[39m",
      "\u001b[31mValueError\u001b[39m                                Traceback (most recent call last)",
      "\u001b[36mCell\u001b[39m\u001b[36m \u001b[39m\u001b[32mIn[184]\u001b[39m\u001b[32m, line 1\u001b[39m\n\u001b[32m----> \u001b[39m\u001b[32m1\u001b[39m a = \u001b[38;5;28;43mint\u001b[39;49m\u001b[43m(\u001b[49m\u001b[38;5;28;43minput\u001b[39;49m\u001b[43m(\u001b[49m\u001b[33;43m\"\u001b[39;49m\u001b[33;43mEnter a number: \u001b[39;49m\u001b[33;43m\"\u001b[39;49m\u001b[43m)\u001b[49m\u001b[43m)\u001b[49m\n\u001b[32m      2\u001b[39m b = \u001b[38;5;28mint\u001b[39m(\u001b[38;5;28minput\u001b[39m(\u001b[33m\"\u001b[39m\u001b[33mEnter another number: \u001b[39m\u001b[33m\"\u001b[39m))    \n\u001b[32m      3\u001b[39m \u001b[38;5;28;01mif\u001b[39;00m a < b:\n",
      "\u001b[31mValueError\u001b[39m: invalid literal for int() with base 10: ''"
     ]
    }
   ],
   "source": [
    "a = int(input(\"Enter a number: \"))\n",
    "b = int(input(\"Enter another number: \"))    \n",
    "if a < b:\n",
    "    print(f\"{a} is smaller number \")\n",
    "elif a > b:\n",
    "    print(f\"{b} is smaller number \")\n",
    "    "
   ]
  },
  {
   "cell_type": "markdown",
   "id": "b861f549",
   "metadata": {},
   "source": [
    "### Q96: (Sets)\n",
    "Try adding a duplicate and print the set."
   ]
  },
  {
   "cell_type": "code",
   "execution_count": null,
   "id": "5c1b81bc",
   "metadata": {},
   "outputs": [
    {
     "name": "stdout",
     "output_type": "stream",
     "text": [
      "{1, 2, 3, 4, 5}\n"
     ]
    }
   ],
   "source": [
    "set = {1, 2, 3, 4, 5}\n",
    "set.add(3)\n",
    "print(set)"
   ]
  },
  {
   "cell_type": "markdown",
   "id": "0b7190e2",
   "metadata": {},
   "source": [
    "### Q97: (Dictionaries)\n",
    "Access the age from the dictionary."
   ]
  },
  {
   "cell_type": "code",
   "execution_count": null,
   "id": "2778ae4d",
   "metadata": {},
   "outputs": [
    {
     "name": "stdout",
     "output_type": "stream",
     "text": [
      "age: 23\n"
     ]
    }
   ],
   "source": [
    "person = {\n",
    "    \"name\": \"Subhash Kumar Thakur\",\n",
    "    \"age\" : 23,\n",
    "    \"city\": \"Lalitpur\"\n",
    "} \n",
    "print(\"age:\", person[\"age\"] )"
   ]
  },
  {
   "cell_type": "markdown",
   "id": "cb79fa11",
   "metadata": {},
   "source": [
    "### Q98: (Lists)\n",
    "Add 'mango' to the list and print."
   ]
  },
  {
   "cell_type": "code",
   "execution_count": null,
   "id": "62a5052c",
   "metadata": {},
   "outputs": [
    {
     "name": "stdout",
     "output_type": "stream",
     "text": [
      "['apple', 'banana', 'cherry', 'orange']\n"
     ]
    }
   ],
   "source": [
    "fruits = [\"apple\", \"banana\", \"cherry\"]\n",
    "fruits.append(\"orange\")\n",
    "print(fruits)"
   ]
  },
  {
   "cell_type": "markdown",
   "id": "0a12cf5e",
   "metadata": {},
   "source": [
    "### Q99: (Sets)\n",
    "Create a set of 3 elements and add one more element."
   ]
  },
  {
   "cell_type": "code",
   "execution_count": null,
   "id": "4e3efaae",
   "metadata": {},
   "outputs": [
    {
     "name": "stdout",
     "output_type": "stream",
     "text": [
      "{1, 2, 3, 4}\n"
     ]
    }
   ],
   "source": [
    "set = {1, 2, 3,}\n",
    "set.add(4)\n",
    "print(set  )"
   ]
  },
  {
   "cell_type": "markdown",
   "id": "3c728fd4",
   "metadata": {},
   "source": [
    "### Q100: (If-Else and Comparisons)\n",
    "Compare two input numbers and print which is larger."
   ]
  },
  {
   "cell_type": "code",
   "execution_count": null,
   "id": "7604bebe",
   "metadata": {},
   "outputs": [
    {
     "name": "stdout",
     "output_type": "stream",
     "text": [
      "6 is larger number \n"
     ]
    }
   ],
   "source": [
    "a = int(input(\"Enter a number: \"))\n",
    "b = int(input(\"Enter another number: \"))    \n",
    "if a > b:\n",
    "    print(f\"{a} is larger number \")\n",
    "elif a < b:\n",
    "    print(f\"{b} is larger number \")\n",
    "    "
   ]
  },
  {
   "cell_type": "code",
   "execution_count": null,
   "id": "bb7d4b4d",
   "metadata": {},
   "outputs": [],
   "source": []
  }
 ],
 "metadata": {
  "kernelspec": {
   "display_name": "Python 3",
   "language": "python",
   "name": "python3"
  },
  "language_info": {
   "codemirror_mode": {
    "name": "ipython",
    "version": 3
   },
   "file_extension": ".py",
   "mimetype": "text/x-python",
   "name": "python",
   "nbconvert_exporter": "python",
   "pygments_lexer": "ipython3",
   "version": "3.13.3"
  }
 },
 "nbformat": 4,
 "nbformat_minor": 5
}
